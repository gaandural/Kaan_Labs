{
 "cells": [
  {
   "cell_type": "code",
   "execution_count": 2,
   "id": "d98e4962",
   "metadata": {},
   "outputs": [],
   "source": [
    "import pandas as pd\n",
    "\n",
    "df = pd.read_csv(\"Data_Marketing_Customer_Analysis_Round3.csv\")"
   ]
  },
  {
   "cell_type": "code",
   "execution_count": 25,
   "id": "24574bf6",
   "metadata": {},
   "outputs": [],
   "source": [
    "df['effective_to_date'] = pd.to_datetime(df['effective_to_date'])"
   ]
  },
  {
   "cell_type": "code",
   "execution_count": 4,
   "id": "3a3edc80",
   "metadata": {},
   "outputs": [],
   "source": [
    "num = df.select_dtypes(\"int64\")\n",
    "cat = df.select_dtypes(\"object\")"
   ]
  },
  {
   "cell_type": "markdown",
   "id": "1ad3ff08",
   "metadata": {},
   "source": [
    "## Linear Regression\n",
    "## 1. X-y split (y is the target variable, in this case, \"total claim amount\")\n",
    "## 2. Train-test split.\n",
    "## 3. Standardize the data (after the data split!).\n",
    "## 4. Apply linear regression.\n",
    "## 5. Model Interpretation."
   ]
  },
  {
   "cell_type": "markdown",
   "id": "b19f06ea",
   "metadata": {},
   "source": [
    "### Using the original numerical dataframe (num) before scaling.\n",
    "### Defining our independent variables and the dependent variable."
   ]
  },
  {
   "cell_type": "code",
   "execution_count": 5,
   "id": "61489e40",
   "metadata": {},
   "outputs": [],
   "source": [
    "import numpy as np"
   ]
  },
  {
   "cell_type": "code",
   "execution_count": 6,
   "id": "18431509",
   "metadata": {},
   "outputs": [],
   "source": [
    "num_1 = num.drop(columns=\"total_claim_amount\")"
   ]
  },
  {
   "cell_type": "code",
   "execution_count": 7,
   "id": "d265b0ef",
   "metadata": {},
   "outputs": [],
   "source": [
    "X = np.array(num_1)"
   ]
  },
  {
   "cell_type": "code",
   "execution_count": 8,
   "id": "6b68a3ca",
   "metadata": {},
   "outputs": [
    {
     "data": {
      "text/plain": [
       "array([[ 4809, 48029,    61, ...,    52,     0,     9],\n",
       "       [ 2228, 92260,    64, ...,    26,     0,     1],\n",
       "       [14947, 22139,   100, ...,    31,     0,     2],\n",
       "       ...,\n",
       "       [23893, 39837,   201, ...,    63,     0,     2],\n",
       "       [11971, 64195,   158, ...,    27,     4,     6],\n",
       "       [ 6857, 68942,   101, ...,     1,     0,     3]], dtype=int64)"
      ]
     },
     "execution_count": 8,
     "metadata": {},
     "output_type": "execute_result"
    }
   ],
   "source": [
    "X"
   ]
  },
  {
   "cell_type": "code",
   "execution_count": 9,
   "id": "196b95c2",
   "metadata": {},
   "outputs": [],
   "source": [
    "y = np.array(num[\"total_claim_amount\"]).reshape(-1,1)"
   ]
  },
  {
   "cell_type": "markdown",
   "id": "6eed1fde",
   "metadata": {},
   "source": [
    "### Splitting the data"
   ]
  },
  {
   "cell_type": "code",
   "execution_count": 10,
   "id": "9579c5bb",
   "metadata": {},
   "outputs": [],
   "source": [
    "from sklearn.model_selection import train_test_split\n",
    "from sklearn.linear_model import LinearRegression"
   ]
  },
  {
   "cell_type": "code",
   "execution_count": 11,
   "id": "866b3448",
   "metadata": {},
   "outputs": [],
   "source": [
    "X_train, X_test, y_train, y_test = train_test_split(X,y, test_size=0.3, random_state = 100)"
   ]
  },
  {
   "cell_type": "markdown",
   "id": "6ba6dd2a",
   "metadata": {},
   "source": [
    "## Scaling the Data\n",
    "### I will transfrom the indepedent variables and dependent variable since they are not all normally distributed."
   ]
  },
  {
   "cell_type": "code",
   "execution_count": 12,
   "id": "f69c4e59",
   "metadata": {},
   "outputs": [],
   "source": [
    "from sklearn.preprocessing import PowerTransformer"
   ]
  },
  {
   "cell_type": "code",
   "execution_count": 13,
   "id": "198d1eab",
   "metadata": {},
   "outputs": [],
   "source": [
    "pt = PowerTransformer(method='yeo-johnson')\n",
    "pt.fit(X_train)\n",
    "X_train_transformed = pt.transform(X_train)\n",
    "X_test_transformed = pt.transform(X_test)"
   ]
  },
  {
   "cell_type": "code",
   "execution_count": 14,
   "id": "4eec8866",
   "metadata": {},
   "outputs": [],
   "source": [
    "pt.fit(y_train)\n",
    "y_train_transformed = pt.transform(y_train)\n",
    "y_test_transformed = pt.transform(y_test)"
   ]
  },
  {
   "cell_type": "markdown",
   "id": "099e475b",
   "metadata": {},
   "source": [
    "## Performing Linear Regression"
   ]
  },
  {
   "cell_type": "code",
   "execution_count": 15,
   "id": "c3c0e944",
   "metadata": {},
   "outputs": [],
   "source": [
    "lm = LinearRegression()\n",
    "model = lm.fit(X_train_transformed,y_train_transformed)"
   ]
  },
  {
   "cell_type": "code",
   "execution_count": 16,
   "id": "dc76af3f",
   "metadata": {},
   "outputs": [
    {
     "name": "stdout",
     "output_type": "stream",
     "text": [
      "Slope = [[-2.08480481e-02 -1.43758190e-01  4.96258343e-01 -9.76148844e-05\n",
      "  -5.65452562e-03 -2.11877522e-02  1.97560397e-02]]\n",
      "Intercept = [5.84527671e-12]\n"
     ]
    }
   ],
   "source": [
    "print(\"Slope =\", model.coef_)\n",
    "print(\"Intercept =\", model.intercept_)"
   ]
  },
  {
   "cell_type": "markdown",
   "id": "1b74ceec",
   "metadata": {},
   "source": [
    "## Comparing"
   ]
  },
  {
   "cell_type": "code",
   "execution_count": 17,
   "id": "fe62c2a7",
   "metadata": {},
   "outputs": [],
   "source": [
    "y_pred = model.predict(X_test_transformed)"
   ]
  },
  {
   "cell_type": "code",
   "execution_count": 18,
   "id": "084b4456",
   "metadata": {},
   "outputs": [],
   "source": [
    "compare = pd.DataFrame({'y_test':list(y_test_transformed) ,'y_pred': list(y_pred)})"
   ]
  },
  {
   "cell_type": "code",
   "execution_count": 19,
   "id": "57c6584d",
   "metadata": {},
   "outputs": [
    {
     "data": {
      "text/html": [
       "<div>\n",
       "<style scoped>\n",
       "    .dataframe tbody tr th:only-of-type {\n",
       "        vertical-align: middle;\n",
       "    }\n",
       "\n",
       "    .dataframe tbody tr th {\n",
       "        vertical-align: top;\n",
       "    }\n",
       "\n",
       "    .dataframe thead th {\n",
       "        text-align: right;\n",
       "    }\n",
       "</style>\n",
       "<table border=\"1\" class=\"dataframe\">\n",
       "  <thead>\n",
       "    <tr style=\"text-align: right;\">\n",
       "      <th></th>\n",
       "      <th>y_test</th>\n",
       "      <th>y_pred</th>\n",
       "    </tr>\n",
       "  </thead>\n",
       "  <tbody>\n",
       "    <tr>\n",
       "      <th>0</th>\n",
       "      <td>[-0.24396624958434066]</td>\n",
       "      <td>[-0.5329755038427559]</td>\n",
       "    </tr>\n",
       "    <tr>\n",
       "      <th>1</th>\n",
       "      <td>[0.26434240768752915]</td>\n",
       "      <td>[0.43784774727757964]</td>\n",
       "    </tr>\n",
       "    <tr>\n",
       "      <th>2</th>\n",
       "      <td>[-2.217679240628924]</td>\n",
       "      <td>[0.40376159507645215]</td>\n",
       "    </tr>\n",
       "    <tr>\n",
       "      <th>3</th>\n",
       "      <td>[-1.3251063471108266]</td>\n",
       "      <td>[0.01458986126476162]</td>\n",
       "    </tr>\n",
       "    <tr>\n",
       "      <th>4</th>\n",
       "      <td>[1.7008351797377181]</td>\n",
       "      <td>[0.9718752095469467]</td>\n",
       "    </tr>\n",
       "    <tr>\n",
       "      <th>...</th>\n",
       "      <td>...</td>\n",
       "      <td>...</td>\n",
       "    </tr>\n",
       "    <tr>\n",
       "      <th>3202</th>\n",
       "      <td>[0.22065479805990468]</td>\n",
       "      <td>[-0.9183327212290082]</td>\n",
       "    </tr>\n",
       "    <tr>\n",
       "      <th>3203</th>\n",
       "      <td>[0.2409017326320982]</td>\n",
       "      <td>[0.6686653167342379]</td>\n",
       "    </tr>\n",
       "    <tr>\n",
       "      <th>3204</th>\n",
       "      <td>[2.2392343647745285]</td>\n",
       "      <td>[1.1509166638082813]</td>\n",
       "    </tr>\n",
       "    <tr>\n",
       "      <th>3205</th>\n",
       "      <td>[-1.5646410368808357]</td>\n",
       "      <td>[-0.8757387844982379]</td>\n",
       "    </tr>\n",
       "    <tr>\n",
       "      <th>3206</th>\n",
       "      <td>[-1.6164273984937825]</td>\n",
       "      <td>[0.04608030234793223]</td>\n",
       "    </tr>\n",
       "  </tbody>\n",
       "</table>\n",
       "<p>3207 rows × 2 columns</p>\n",
       "</div>"
      ],
      "text/plain": [
       "                      y_test                 y_pred\n",
       "0     [-0.24396624958434066]  [-0.5329755038427559]\n",
       "1      [0.26434240768752915]  [0.43784774727757964]\n",
       "2       [-2.217679240628924]  [0.40376159507645215]\n",
       "3      [-1.3251063471108266]  [0.01458986126476162]\n",
       "4       [1.7008351797377181]   [0.9718752095469467]\n",
       "...                      ...                    ...\n",
       "3202   [0.22065479805990468]  [-0.9183327212290082]\n",
       "3203    [0.2409017326320982]   [0.6686653167342379]\n",
       "3204    [2.2392343647745285]   [1.1509166638082813]\n",
       "3205   [-1.5646410368808357]  [-0.8757387844982379]\n",
       "3206   [-1.6164273984937825]  [0.04608030234793223]\n",
       "\n",
       "[3207 rows x 2 columns]"
      ]
     },
     "execution_count": 19,
     "metadata": {},
     "output_type": "execute_result"
    }
   ],
   "source": [
    "compare"
   ]
  },
  {
   "cell_type": "markdown",
   "id": "0e7c8bd9",
   "metadata": {},
   "source": [
    "### Model Evaluation"
   ]
  },
  {
   "cell_type": "code",
   "execution_count": 20,
   "id": "c0cce6d1",
   "metadata": {},
   "outputs": [],
   "source": [
    "import matplotlib.pyplot as plt"
   ]
  },
  {
   "cell_type": "code",
   "execution_count": 21,
   "id": "b8b0c3a6",
   "metadata": {},
   "outputs": [
    {
     "data": {
      "text/plain": [
       "[<matplotlib.lines.Line2D at 0x1da7bb02ef0>]"
      ]
     },
     "execution_count": 21,
     "metadata": {},
     "output_type": "execute_result"
    },
    {
     "data": {
      "image/png": "[encoded data removed]",
      "text/plain": [
       "<Figure size 1400x400 with 3 Axes>"
      ]
     },
     "metadata": {},
     "output_type": "display_data"
    }
   ],
   "source": [
    "fig, ax = plt.subplots(1,3,figsize=(14,4))\n",
    "ax[0].plot(y_pred, y_test_transformed, 'o')\n",
    "ax[0].set_xlabel(\"y_test_transformed\")\n",
    "ax[0].set_ylabel(\"y_pred\")\n",
    "ax[0].set_title(\"Test Set -Predicted vs real\")\n",
    "\n",
    "# Get a histogram of the residuals ie: y - y_pred.  Homoscedasticity\n",
    "# Does it resemble a normal distribution?\n",
    "ax[1].hist(y_test_transformed - y_pred)\n",
    "ax[1].set_xlabel(\"Test y-y_pred\")\n",
    "ax[1].set_title(\"Test Set Residual histogram\")\n",
    "\n",
    "ax[2].plot(y_pred,y_test_transformed - y_pred,\"o\")\n",
    "ax[2].set_xlabel(\"predicted\")\n",
    "ax[2].set_ylabel(\"residuals\")\n",
    "ax[2].set_title(\"Residuals by Predicted\")\n",
    "ax[2].plot(y_pred,np.zeros(len(y_pred)),linestyle='dashed')"
   ]
  },
  {
   "cell_type": "markdown",
   "id": "2d07e03b",
   "metadata": {},
   "source": [
    "## Model Validation"
   ]
  },
  {
   "cell_type": "code",
   "execution_count": 43,
   "id": "a506122e",
   "metadata": {},
   "outputs": [
    {
     "name": "stdout",
     "output_type": "stream",
     "text": [
      "MSE = 0.7637981044286775\n"
     ]
    }
   ],
   "source": [
    "from sklearn.metrics import mean_absolute_error as mae, mean_squared_error as mse, r2_score as r2\n",
    "mse = mse(y_test_transformed,y_pred)\n",
    "print(\"MSE =\",mse)"
   ]
  },
  {
   "cell_type": "code",
   "execution_count": 44,
   "id": "37248a94",
   "metadata": {},
   "outputs": [
    {
     "name": "stdout",
     "output_type": "stream",
     "text": [
      "MAE = 0.6295226660494436\n"
     ]
    }
   ],
   "source": [
    "mae = mae(y_test_transformed,y_pred)\n",
    "print(\"MAE =\",mae)"
   ]
  },
  {
   "cell_type": "code",
   "execution_count": 45,
   "id": "9486b0e8",
   "metadata": {},
   "outputs": [],
   "source": [
    "import math"
   ]
  },
  {
   "cell_type": "code",
   "execution_count": 46,
   "id": "d53023ab",
   "metadata": {},
   "outputs": [
    {
     "name": "stdout",
     "output_type": "stream",
     "text": [
      "RMSE = 0.8739554361800591\n"
     ]
    }
   ],
   "source": [
    "RMSE = math.sqrt(mse)\n",
    "print(\"RMSE =\",RMSE)"
   ]
  },
  {
   "cell_type": "code",
   "execution_count": 47,
   "id": "731dc674",
   "metadata": {},
   "outputs": [
    {
     "name": "stdout",
     "output_type": "stream",
     "text": [
      "R2 = 0.2630439296055753\n"
     ]
    }
   ],
   "source": [
    "r2 = r2(y_test_transformed,y_pred)\n",
    "print(\"R2 =\",r2)"
   ]
  }
 ],
 "metadata": {
  "kernelspec": {
   "display_name": "Python 3 (ipykernel)",
   "language": "python",
   "name": "python3"
  },
  "language_info": {
   "codemirror_mode": {
    "name": "ipython",
    "version": 3
   },
   "file_extension": ".py",
   "mimetype": "text/x-python",
   "name": "python",
   "nbconvert_exporter": "python",
   "pygments_lexer": "ipython3",
   "version": "3.10.9"
  }
 },
 "nbformat": 4,
 "nbformat_minor": 5
}
