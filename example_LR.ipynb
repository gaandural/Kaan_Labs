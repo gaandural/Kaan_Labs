{
 "cells": [
  {
   "cell_type": "markdown",
   "id": "c6ed62e5",
   "metadata": {},
   "source": [
    "## example linear regression"
   ]
  },
  {
   "cell_type": "code",
   "execution_count": 34,
   "id": "be315f02",
   "metadata": {},
   "outputs": [],
   "source": [
    "import numpy as np\n",
    "import pandas as pd\n",
    "import matplotlib.pyplot as plt\n",
    "%matplotlib inline\n",
    "import seaborn as sns\n",
    "import statsmodels.api as sm\n",
    "from scipy.stats import boxcox\n",
    "from sklearn.compose import ColumnTransformer\n",
    "from sklearn.preprocessing import PowerTransformer, StandardScaler, MinMaxScaler, OneHotEncoder\n",
    "from sklearn.preprocessing import LabelEncoder\n",
    "sns.load_dataset(\"penguins\")\n",
    "pd.options.display.max_rows = 10"
   ]
  },
  {
   "cell_type": "code",
   "execution_count": 19,
   "id": "e71fd720",
   "metadata": {},
   "outputs": [],
   "source": [
    "p_df = sns.load_dataset(\"penguins\")"
   ]
  },
  {
   "cell_type": "code",
   "execution_count": 20,
   "id": "637730e2",
   "metadata": {},
   "outputs": [],
   "source": [
    "#we are using flippler_lenght to predict body_mass_g\n",
    "p_df = p_df.dropna()"
   ]
  },
  {
   "cell_type": "code",
   "execution_count": 21,
   "id": "1eabeabe",
   "metadata": {},
   "outputs": [
    {
     "data": {
      "text/html": [
       "<div>\n",
       "<style scoped>\n",
       "    .dataframe tbody tr th:only-of-type {\n",
       "        vertical-align: middle;\n",
       "    }\n",
       "\n",
       "    .dataframe tbody tr th {\n",
       "        vertical-align: top;\n",
       "    }\n",
       "\n",
       "    .dataframe thead th {\n",
       "        text-align: right;\n",
       "    }\n",
       "</style>\n",
       "<table border=\"1\" class=\"dataframe\">\n",
       "  <thead>\n",
       "    <tr style=\"text-align: right;\">\n",
       "      <th></th>\n",
       "      <th>index</th>\n",
       "      <th>species</th>\n",
       "      <th>island</th>\n",
       "      <th>bill_length_mm</th>\n",
       "      <th>bill_depth_mm</th>\n",
       "      <th>flipper_length_mm</th>\n",
       "      <th>body_mass_g</th>\n",
       "      <th>sex</th>\n",
       "    </tr>\n",
       "  </thead>\n",
       "  <tbody>\n",
       "    <tr>\n",
       "      <th>0</th>\n",
       "      <td>0</td>\n",
       "      <td>Adelie</td>\n",
       "      <td>Torgersen</td>\n",
       "      <td>39.1</td>\n",
       "      <td>18.7</td>\n",
       "      <td>181.0</td>\n",
       "      <td>3750.0</td>\n",
       "      <td>Male</td>\n",
       "    </tr>\n",
       "    <tr>\n",
       "      <th>1</th>\n",
       "      <td>1</td>\n",
       "      <td>Adelie</td>\n",
       "      <td>Torgersen</td>\n",
       "      <td>39.5</td>\n",
       "      <td>17.4</td>\n",
       "      <td>186.0</td>\n",
       "      <td>3800.0</td>\n",
       "      <td>Female</td>\n",
       "    </tr>\n",
       "    <tr>\n",
       "      <th>2</th>\n",
       "      <td>2</td>\n",
       "      <td>Adelie</td>\n",
       "      <td>Torgersen</td>\n",
       "      <td>40.3</td>\n",
       "      <td>18.0</td>\n",
       "      <td>195.0</td>\n",
       "      <td>3250.0</td>\n",
       "      <td>Female</td>\n",
       "    </tr>\n",
       "    <tr>\n",
       "      <th>3</th>\n",
       "      <td>4</td>\n",
       "      <td>Adelie</td>\n",
       "      <td>Torgersen</td>\n",
       "      <td>36.7</td>\n",
       "      <td>19.3</td>\n",
       "      <td>193.0</td>\n",
       "      <td>3450.0</td>\n",
       "      <td>Female</td>\n",
       "    </tr>\n",
       "    <tr>\n",
       "      <th>4</th>\n",
       "      <td>5</td>\n",
       "      <td>Adelie</td>\n",
       "      <td>Torgersen</td>\n",
       "      <td>39.3</td>\n",
       "      <td>20.6</td>\n",
       "      <td>190.0</td>\n",
       "      <td>3650.0</td>\n",
       "      <td>Male</td>\n",
       "    </tr>\n",
       "  </tbody>\n",
       "</table>\n",
       "</div>"
      ],
      "text/plain": [
       "   index species     island  bill_length_mm  bill_depth_mm  flipper_length_mm  \\\n",
       "0      0  Adelie  Torgersen            39.1           18.7              181.0   \n",
       "1      1  Adelie  Torgersen            39.5           17.4              186.0   \n",
       "2      2  Adelie  Torgersen            40.3           18.0              195.0   \n",
       "3      4  Adelie  Torgersen            36.7           19.3              193.0   \n",
       "4      5  Adelie  Torgersen            39.3           20.6              190.0   \n",
       "\n",
       "   body_mass_g     sex  \n",
       "0       3750.0    Male  \n",
       "1       3800.0  Female  \n",
       "2       3250.0  Female  \n",
       "3       3450.0  Female  \n",
       "4       3650.0    Male  "
      ]
     },
     "execution_count": 21,
     "metadata": {},
     "output_type": "execute_result"
    }
   ],
   "source": [
    "p_df = p_df.reset_index()\n",
    "p_df.head()"
   ]
  },
  {
   "cell_type": "code",
   "execution_count": 26,
   "id": "7d3746c5",
   "metadata": {},
   "outputs": [
    {
     "data": {
      "text/plain": [
       "0      3750.0\n",
       "1      3800.0\n",
       "2      3250.0\n",
       "3      3450.0\n",
       "4      3650.0\n",
       "        ...  \n",
       "328    4925.0\n",
       "329    4850.0\n",
       "330    5750.0\n",
       "331    5200.0\n",
       "332    5400.0\n",
       "Name: body_mass_g, Length: 333, dtype: float64"
      ]
     },
     "execution_count": 26,
     "metadata": {},
     "output_type": "execute_result"
    }
   ],
   "source": [
    "X = p_df[\"flipper_length_mm\"]\n",
    "y = p_df[\"body_mass_g\"]\n",
    "y"
   ]
  },
  {
   "cell_type": "markdown",
   "id": "429c57fd",
   "metadata": {},
   "source": [
    "## train-test-split"
   ]
  },
  {
   "cell_type": "raw",
   "id": "97fc5b3e",
   "metadata": {},
   "source": [
    "from sklearn.model_selection import train_test_split"
   ]
  },
  {
   "cell_type": "code",
   "execution_count": 23,
   "id": "cce3344e",
   "metadata": {},
   "outputs": [],
   "source": [
    "X_train, X_test, y_train, y_test = train_test_split(X,y, test_size= 0.3, random_state = 42)"
   ]
  },
  {
   "cell_type": "markdown",
   "id": "0396964c",
   "metadata": {},
   "source": [
    "## model generation"
   ]
  },
  {
   "cell_type": "code",
   "execution_count": 24,
   "id": "aa132d88",
   "metadata": {},
   "outputs": [],
   "source": [
    "from sklearn.linear_model import LinearRegression"
   ]
  },
  {
   "cell_type": "code",
   "execution_count": 27,
   "id": "139ca53e",
   "metadata": {},
   "outputs": [],
   "source": [
    "X_train = np.array(X_train).reshape(-1,1)\n",
    "y_train = np.array(y_train).reshape(-1,1)"
   ]
  },
  {
   "cell_type": "code",
   "execution_count": 30,
   "id": "75dad3f6",
   "metadata": {},
   "outputs": [
    {
     "data": {
      "text/plain": [
       "array([[51.32743793]])"
      ]
     },
     "execution_count": 30,
     "metadata": {},
     "output_type": "execute_result"
    }
   ],
   "source": [
    "lm = LinearRegression()\n",
    "model = lm.fit(X_train, y_train)\n",
    "model.coef_"
   ]
  },
  {
   "cell_type": "code",
   "execution_count": 32,
   "id": "e47eed7d",
   "metadata": {},
   "outputs": [
    {
     "data": {
      "text/plain": [
       "array([-6118.66754338])"
      ]
     },
     "execution_count": 32,
     "metadata": {},
     "output_type": "execute_result"
    }
   ],
   "source": [
    "model.intercept_"
   ]
  },
  {
   "cell_type": "code",
   "execution_count": 35,
   "id": "b20e7090",
   "metadata": {},
   "outputs": [
    {
     "data": {
      "text/plain": [
       "25     3250.0\n",
       "309    4875.0\n",
       "73     4000.0\n",
       "195    3675.0\n",
       "57     4050.0\n",
       "        ...  \n",
       "15     3400.0\n",
       "6      4675.0\n",
       "209    4000.0\n",
       "93     4100.0\n",
       "30     4150.0\n",
       "Name: body_mass_g, Length: 100, dtype: float64"
      ]
     },
     "execution_count": 35,
     "metadata": {},
     "output_type": "execute_result"
    }
   ],
   "source": [
    "y_test"
   ]
  },
  {
   "cell_type": "code",
   "execution_count": 40,
   "id": "3140136f",
   "metadata": {},
   "outputs": [],
   "source": [
    "X_test = np.array(X_test).reshape(-1,1)\n",
    "y_test = np.array(y_test).reshape(-1,1)"
   ]
  },
  {
   "cell_type": "code",
   "execution_count": 41,
   "id": "b071215e",
   "metadata": {},
   "outputs": [
    {
     "data": {
      "text/plain": [
       "array([[ 232.38359244],\n",
       "       [-401.02367633],\n",
       "       [ 109.81714769],\n",
       "       [-369.16516609],\n",
       "       [ 313.79946147],\n",
       "       [ -12.74929707],\n",
       "       [ 222.64888574],\n",
       "       [-290.18285231],\n",
       "       [ -12.52797646],\n",
       "       [-248.14747987],\n",
       "       [ 758.48970976],\n",
       "       [ 355.83483391],\n",
       "       [  17.56045464],\n",
       "       [-287.52797646],\n",
       "       [-260.09442121],\n",
       "       [  23.09152695],\n",
       "       [-329.5633489 ],\n",
       "       [-236.20053853],\n",
       "       [ 320.4366511 ],\n",
       "       [-465.40417292],\n",
       "       [ 133.48970976],\n",
       "       [  91.45433732],\n",
       "       [ -83.98830389],\n",
       "       [-250.80235573],\n",
       "       [ 453.40127866],\n",
       "       [-630.89078683],\n",
       "       [ 285.92326501],\n",
       "       [-164.07673499],\n",
       "       [ 528.40127866],\n",
       "       [ 314.68425818],\n",
       "       [-579.5633489 ],\n",
       "       [-136.64317975],\n",
       "       [ 405.83483391],\n",
       "       [-699.4749178 ],\n",
       "       [  13.35682025],\n",
       "       [  -8.76698329],\n",
       "       [ -40.18285231],\n",
       "       [-607.43954536],\n",
       "       [-183.54566268],\n",
       "       [-378.23591097],\n",
       "       [ 128.40127866],\n",
       "       [-183.54566268],\n",
       "       [-746.82004195],\n",
       "       [-195.49260402],\n",
       "       [-257.21822475],\n",
       "       [  70.4366511 ],\n",
       "       [  75.30376159],\n",
       "       [ 769.10921317],\n",
       "       [ 266.45433732],\n",
       "       [-272.04136255],\n",
       "       [ -11.20053853],\n",
       "       [ 830.6135133 ],\n",
       "       [  88.57814086],\n",
       "       [ 479.72871659],\n",
       "       [ 215.12689939],\n",
       "       [ 226.63119952],\n",
       "       [ -22.92615927],\n",
       "       [ 509.81714769],\n",
       "       [ -41.51029024],\n",
       "       [-200.80235573],\n",
       "       [  16.01169611],\n",
       "       [ 583.26838915],\n",
       "       [-473.36880048],\n",
       "       [-337.52797646],\n",
       "       [ 412.47202354],\n",
       "       [-180.00599011],\n",
       "       [-540.18285231],\n",
       "       [-215.40417292],\n",
       "       [-334.87310061],\n",
       "       [ -28.67855219],\n",
       "       [ 217.78177525],\n",
       "       [ 829.72871659],\n",
       "       [ 127.95863745],\n",
       "       [-644.3864867 ],\n",
       "       [  83.26838915],\n",
       "       [ 101.85252013],\n",
       "       [ 367.78177525],\n",
       "       [-320.49260402],\n",
       "       [ -37.52797646],\n",
       "       [ 733.26838915],\n",
       "       [ 535.03846829],\n",
       "       [ 616.45433732],\n",
       "       [-279.5633489 ],\n",
       "       [  66.45433732],\n",
       "       [  16.01169611],\n",
       "       [-119.3864867 ],\n",
       "       [ 316.45433732],\n",
       "       [ 112.25070293],\n",
       "       [  96.54276842],\n",
       "       [-284.87310061],\n",
       "       [ 629.28607537],\n",
       "       [ 473.97632367],\n",
       "       [-198.14747987],\n",
       "       [ 213.79946147],\n",
       "       [ -95.49260402],\n",
       "       [ 587.69334415],\n",
       "       [ 784.81714769],\n",
       "       [-506.11210743],\n",
       "       [ 363.79946147],\n",
       "       [ 208.48970976]])"
      ]
     },
     "execution_count": 41,
     "metadata": {},
     "output_type": "execute_result"
    }
   ],
   "source": [
    "y_pred = model.predict(X_test)\n",
    "y_test - y_pred"
   ]
  },
  {
   "cell_type": "code",
   "execution_count": 49,
   "id": "3a568d4e",
   "metadata": {},
   "outputs": [
    {
     "data": {
      "text/html": [
       "<div>\n",
       "<style scoped>\n",
       "    .dataframe tbody tr th:only-of-type {\n",
       "        vertical-align: middle;\n",
       "    }\n",
       "\n",
       "    .dataframe tbody tr th {\n",
       "        vertical-align: top;\n",
       "    }\n",
       "\n",
       "    .dataframe thead th {\n",
       "        text-align: right;\n",
       "    }\n",
       "</style>\n",
       "<table border=\"1\" class=\"dataframe\">\n",
       "  <thead>\n",
       "    <tr style=\"text-align: right;\">\n",
       "      <th></th>\n",
       "      <th>y_test</th>\n",
       "      <th>y_pred</th>\n",
       "    </tr>\n",
       "  </thead>\n",
       "  <tbody>\n",
       "    <tr>\n",
       "      <th>0</th>\n",
       "      <td>[3250.0]</td>\n",
       "      <td>[3017.616407560008]</td>\n",
       "    </tr>\n",
       "    <tr>\n",
       "      <th>1</th>\n",
       "      <td>[4875.0]</td>\n",
       "      <td>[5276.023676332345]</td>\n",
       "    </tr>\n",
       "    <tr>\n",
       "      <th>2</th>\n",
       "      <td>[4000.0]</td>\n",
       "      <td>[3890.182852312955]</td>\n",
       "    </tr>\n",
       "    <tr>\n",
       "      <th>3</th>\n",
       "      <td>[3675.0]</td>\n",
       "      <td>[4044.1651660928874]</td>\n",
       "    </tr>\n",
       "    <tr>\n",
       "      <th>4</th>\n",
       "      <td>[4050.0]</td>\n",
       "      <td>[3736.200538533025]</td>\n",
       "    </tr>\n",
       "    <tr>\n",
       "      <th>...</th>\n",
       "      <td>...</td>\n",
       "      <td>...</td>\n",
       "    </tr>\n",
       "    <tr>\n",
       "      <th>95</th>\n",
       "      <td>[3400.0]</td>\n",
       "      <td>[2812.306655853432]</td>\n",
       "    </tr>\n",
       "    <tr>\n",
       "      <th>96</th>\n",
       "      <td>[4675.0]</td>\n",
       "      <td>[3890.182852312955]</td>\n",
       "    </tr>\n",
       "    <tr>\n",
       "      <th>97</th>\n",
       "      <td>[4000.0]</td>\n",
       "      <td>[4506.112107432684]</td>\n",
       "    </tr>\n",
       "    <tr>\n",
       "      <th>98</th>\n",
       "      <td>[4100.0]</td>\n",
       "      <td>[3736.200538533025]</td>\n",
       "    </tr>\n",
       "    <tr>\n",
       "      <th>99</th>\n",
       "      <td>[4150.0]</td>\n",
       "      <td>[3941.5102902395993]</td>\n",
       "    </tr>\n",
       "  </tbody>\n",
       "</table>\n",
       "<p>100 rows × 2 columns</p>\n",
       "</div>"
      ],
      "text/plain": [
       "      y_test                y_pred\n",
       "0   [3250.0]   [3017.616407560008]\n",
       "1   [4875.0]   [5276.023676332345]\n",
       "2   [4000.0]   [3890.182852312955]\n",
       "3   [3675.0]  [4044.1651660928874]\n",
       "4   [4050.0]   [3736.200538533025]\n",
       "..       ...                   ...\n",
       "95  [3400.0]   [2812.306655853432]\n",
       "96  [4675.0]   [3890.182852312955]\n",
       "97  [4000.0]   [4506.112107432684]\n",
       "98  [4100.0]   [3736.200538533025]\n",
       "99  [4150.0]  [3941.5102902395993]\n",
       "\n",
       "[100 rows x 2 columns]"
      ]
     },
     "execution_count": 49,
     "metadata": {},
     "output_type": "execute_result"
    }
   ],
   "source": [
    "compare = pd.DataFrame({\"y_test\":list(y_test), \"y_pred\" : list(y_pred)})\n",
    "compare"
   ]
  },
  {
   "cell_type": "markdown",
   "id": "74332765",
   "metadata": {},
   "source": [
    "#### Model evaluation"
   ]
  },
  {
   "cell_type": "code",
   "execution_count": 51,
   "id": "9a621b1c",
   "metadata": {},
   "outputs": [],
   "source": [
    "from sklearn.metrics import mean_absolute_error as mae, mean_squared_error as mse"
   ]
  },
  {
   "cell_type": "code",
   "execution_count": 53,
   "id": "1538dcd4",
   "metadata": {},
   "outputs": [
    {
     "data": {
      "text/plain": [
       "138931.09920252106"
      ]
     },
     "execution_count": 53,
     "metadata": {},
     "output_type": "execute_result"
    }
   ],
   "source": [
    "mse(y_test,y_pred)"
   ]
  },
  {
   "cell_type": "code",
   "execution_count": 54,
   "id": "8e36d257",
   "metadata": {},
   "outputs": [
    {
     "data": {
      "text/plain": [
       "299.39047755852704"
      ]
     },
     "execution_count": 54,
     "metadata": {},
     "output_type": "execute_result"
    }
   ],
   "source": [
    "#300 gr error\n",
    "mae(y_test,y_pred)"
   ]
  },
  {
   "cell_type": "markdown",
   "id": "a875c27b",
   "metadata": {},
   "source": []
  }
 ],
 "metadata": {
  "kernelspec": {
   "display_name": "Python 3 (ipykernel)",
   "language": "python",
   "name": "python3"
  },
  "language_info": {
   "codemirror_mode": {
    "name": "ipython",
    "version": 3
   },
   "file_extension": ".py",
   "mimetype": "text/x-python",
   "name": "python",
   "nbconvert_exporter": "python",
   "pygments_lexer": "ipython3",
   "version": "3.10.9"
  }
 },
 "nbformat": 4,
 "nbformat_minor": 5
}
