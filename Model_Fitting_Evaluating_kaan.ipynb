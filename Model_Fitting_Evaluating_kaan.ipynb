{
 "cells": [
  {
   "cell_type": "code",
   "execution_count": 6,
   "id": "14303c1a",
   "metadata": {},
   "outputs": [],
   "source": [
    "import numpy as np\n",
    "import pandas as pd\n",
    "import matplotlib.pyplot as plt\n",
    "%matplotlib inline\n",
    "import seaborn as sns\n",
    "import statsmodels.api as sm\n",
    "from scipy.stats import boxcox\n",
    "from sklearn.compose import ColumnTransformer\n",
    "from sklearn.preprocessing import PowerTransformer, StandardScaler, MinMaxScaler, OneHotEncoder\n",
    "from sklearn.preprocessing import LabelEncoder\n",
    "from sklearn.model_selection import train_test_split\n",
    "from sklearn.linear_model import LinearRegression\n",
    "file3 = pd.read_csv(r'file:///Users/kaan/Desktop/Data_Marketing_Customer_Analysis_Round3.csv')\n",
    "pd.options.display.max_rows = 10\n",
    "\n"
   ]
  },
  {
   "cell_type": "code",
   "execution_count": 7,
   "id": "94832a6f",
   "metadata": {},
   "outputs": [
    {
     "name": "stdout",
     "output_type": "stream",
     "text": [
      "<class 'pandas.core.frame.DataFrame'>\n",
      "RangeIndex: 10689 entries, 0 to 10688\n",
      "Data columns (total 24 columns):\n",
      " #   Column                         Non-Null Count  Dtype \n",
      "---  ------                         --------------  ----- \n",
      " 0   region                         10689 non-null  object\n",
      " 1   customer_lifetime_value        10689 non-null  int64 \n",
      " 2   response                       10689 non-null  object\n",
      " 3   coverage                       10689 non-null  object\n",
      " 4   education                      10689 non-null  object\n",
      " 5   effective_to_date              10689 non-null  object\n",
      " 6   month                          10689 non-null  object\n",
      " 7   employment_status              10689 non-null  object\n",
      " 8   gender                         10689 non-null  object\n",
      " 9   income                         10689 non-null  int64 \n",
      " 10  location_code                  10689 non-null  object\n",
      " 11  marital_status                 10689 non-null  object\n",
      " 12  monthly_premium_auto           10689 non-null  int64 \n",
      " 13  months_since_last_claim        10689 non-null  int64 \n",
      " 14  months_since_policy_inception  10689 non-null  int64 \n",
      " 15  number_of_open_complaints      10689 non-null  int64 \n",
      " 16  number_of_policies             10689 non-null  int64 \n",
      " 17  policy_type                    10689 non-null  object\n",
      " 18  policy                         10689 non-null  object\n",
      " 19  renew_offer_type               10689 non-null  object\n",
      " 20  sales_channel                  10689 non-null  object\n",
      " 21  total_claim_amount             10689 non-null  int64 \n",
      " 22  vehicle_class                  10689 non-null  object\n",
      " 23  vehicle_size                   10689 non-null  object\n",
      "dtypes: int64(8), object(16)\n",
      "memory usage: 2.0+ MB\n"
     ]
    }
   ],
   "source": [
    "file3.info()"
   ]
  },
  {
   "cell_type": "code",
   "execution_count": 8,
   "id": "d3bf51d1",
   "metadata": {
    "scrolled": true
   },
   "outputs": [],
   "source": [
    "numerics = ['int16', 'int32', 'int64'] \n",
    "numerical = file3.select_dtypes(include=numerics)\n",
    "numerical\n",
    "\n",
    "X = np.array(numerical)"
   ]
  },
  {
   "cell_type": "code",
   "execution_count": 9,
   "id": "4d057c7b",
   "metadata": {},
   "outputs": [
    {
     "data": {
      "text/html": [
       "<div>\n",
       "<style scoped>\n",
       "    .dataframe tbody tr th:only-of-type {\n",
       "        vertical-align: middle;\n",
       "    }\n",
       "\n",
       "    .dataframe tbody tr th {\n",
       "        vertical-align: top;\n",
       "    }\n",
       "\n",
       "    .dataframe thead th {\n",
       "        text-align: right;\n",
       "    }\n",
       "</style>\n",
       "<table border=\"1\" class=\"dataframe\">\n",
       "  <thead>\n",
       "    <tr style=\"text-align: right;\">\n",
       "      <th></th>\n",
       "      <th>index</th>\n",
       "      <th>customer_lifetime_value</th>\n",
       "      <th>income</th>\n",
       "      <th>monthly_premium_auto</th>\n",
       "      <th>months_since_last_claim</th>\n",
       "      <th>months_since_policy_inception</th>\n",
       "      <th>number_of_open_complaints</th>\n",
       "      <th>number_of_policies</th>\n",
       "      <th>total_claim_amount</th>\n",
       "    </tr>\n",
       "  </thead>\n",
       "  <tbody>\n",
       "    <tr>\n",
       "      <th>0</th>\n",
       "      <td>0</td>\n",
       "      <td>4809</td>\n",
       "      <td>48029</td>\n",
       "      <td>61</td>\n",
       "      <td>7</td>\n",
       "      <td>52</td>\n",
       "      <td>0</td>\n",
       "      <td>9</td>\n",
       "      <td>292</td>\n",
       "    </tr>\n",
       "    <tr>\n",
       "      <th>1</th>\n",
       "      <td>1</td>\n",
       "      <td>2228</td>\n",
       "      <td>92260</td>\n",
       "      <td>64</td>\n",
       "      <td>3</td>\n",
       "      <td>26</td>\n",
       "      <td>0</td>\n",
       "      <td>1</td>\n",
       "      <td>744</td>\n",
       "    </tr>\n",
       "    <tr>\n",
       "      <th>2</th>\n",
       "      <td>2</td>\n",
       "      <td>14947</td>\n",
       "      <td>22139</td>\n",
       "      <td>100</td>\n",
       "      <td>34</td>\n",
       "      <td>31</td>\n",
       "      <td>0</td>\n",
       "      <td>2</td>\n",
       "      <td>480</td>\n",
       "    </tr>\n",
       "    <tr>\n",
       "      <th>3</th>\n",
       "      <td>3</td>\n",
       "      <td>22332</td>\n",
       "      <td>49078</td>\n",
       "      <td>97</td>\n",
       "      <td>10</td>\n",
       "      <td>3</td>\n",
       "      <td>0</td>\n",
       "      <td>2</td>\n",
       "      <td>484</td>\n",
       "    </tr>\n",
       "    <tr>\n",
       "      <th>4</th>\n",
       "      <td>4</td>\n",
       "      <td>9025</td>\n",
       "      <td>23675</td>\n",
       "      <td>117</td>\n",
       "      <td>33</td>\n",
       "      <td>31</td>\n",
       "      <td>0</td>\n",
       "      <td>7</td>\n",
       "      <td>707</td>\n",
       "    </tr>\n",
       "    <tr>\n",
       "      <th>...</th>\n",
       "      <td>...</td>\n",
       "      <td>...</td>\n",
       "      <td>...</td>\n",
       "      <td>...</td>\n",
       "      <td>...</td>\n",
       "      <td>...</td>\n",
       "      <td>...</td>\n",
       "      <td>...</td>\n",
       "      <td>...</td>\n",
       "    </tr>\n",
       "    <tr>\n",
       "      <th>10684</th>\n",
       "      <td>10684</td>\n",
       "      <td>15563</td>\n",
       "      <td>61541</td>\n",
       "      <td>253</td>\n",
       "      <td>12</td>\n",
       "      <td>40</td>\n",
       "      <td>0</td>\n",
       "      <td>7</td>\n",
       "      <td>1214</td>\n",
       "    </tr>\n",
       "    <tr>\n",
       "      <th>10685</th>\n",
       "      <td>10685</td>\n",
       "      <td>5259</td>\n",
       "      <td>61146</td>\n",
       "      <td>65</td>\n",
       "      <td>7</td>\n",
       "      <td>68</td>\n",
       "      <td>0</td>\n",
       "      <td>6</td>\n",
       "      <td>273</td>\n",
       "    </tr>\n",
       "    <tr>\n",
       "      <th>10686</th>\n",
       "      <td>10686</td>\n",
       "      <td>23893</td>\n",
       "      <td>39837</td>\n",
       "      <td>201</td>\n",
       "      <td>11</td>\n",
       "      <td>63</td>\n",
       "      <td>0</td>\n",
       "      <td>2</td>\n",
       "      <td>381</td>\n",
       "    </tr>\n",
       "    <tr>\n",
       "      <th>10687</th>\n",
       "      <td>10687</td>\n",
       "      <td>11971</td>\n",
       "      <td>64195</td>\n",
       "      <td>158</td>\n",
       "      <td>0</td>\n",
       "      <td>27</td>\n",
       "      <td>4</td>\n",
       "      <td>6</td>\n",
       "      <td>618</td>\n",
       "    </tr>\n",
       "    <tr>\n",
       "      <th>10688</th>\n",
       "      <td>10688</td>\n",
       "      <td>6857</td>\n",
       "      <td>68942</td>\n",
       "      <td>101</td>\n",
       "      <td>31</td>\n",
       "      <td>1</td>\n",
       "      <td>0</td>\n",
       "      <td>3</td>\n",
       "      <td>1021</td>\n",
       "    </tr>\n",
       "  </tbody>\n",
       "</table>\n",
       "<p>10689 rows × 9 columns</p>\n",
       "</div>"
      ],
      "text/plain": [
       "       index  customer_lifetime_value  income  monthly_premium_auto  \\\n",
       "0          0                     4809   48029                    61   \n",
       "1          1                     2228   92260                    64   \n",
       "2          2                    14947   22139                   100   \n",
       "3          3                    22332   49078                    97   \n",
       "4          4                     9025   23675                   117   \n",
       "...      ...                      ...     ...                   ...   \n",
       "10684  10684                    15563   61541                   253   \n",
       "10685  10685                     5259   61146                    65   \n",
       "10686  10686                    23893   39837                   201   \n",
       "10687  10687                    11971   64195                   158   \n",
       "10688  10688                     6857   68942                   101   \n",
       "\n",
       "       months_since_last_claim  months_since_policy_inception  \\\n",
       "0                            7                             52   \n",
       "1                            3                             26   \n",
       "2                           34                             31   \n",
       "3                           10                              3   \n",
       "4                           33                             31   \n",
       "...                        ...                            ...   \n",
       "10684                       12                             40   \n",
       "10685                        7                             68   \n",
       "10686                       11                             63   \n",
       "10687                        0                             27   \n",
       "10688                       31                              1   \n",
       "\n",
       "       number_of_open_complaints  number_of_policies  total_claim_amount  \n",
       "0                              0                   9                 292  \n",
       "1                              0                   1                 744  \n",
       "2                              0                   2                 480  \n",
       "3                              0                   2                 484  \n",
       "4                              0                   7                 707  \n",
       "...                          ...                 ...                 ...  \n",
       "10684                          0                   7                1214  \n",
       "10685                          0                   6                 273  \n",
       "10686                          0                   2                 381  \n",
       "10687                          4                   6                 618  \n",
       "10688                          0                   3                1021  \n",
       "\n",
       "[10689 rows x 9 columns]"
      ]
     },
     "execution_count": 9,
     "metadata": {},
     "output_type": "execute_result"
    }
   ],
   "source": [
    "numerical = numerical.dropna()\n",
    "numerical = numerical.reset_index()\n",
    "numerical"
   ]
  },
  {
   "cell_type": "code",
   "execution_count": 10,
   "id": "79bd8dc6",
   "metadata": {},
   "outputs": [],
   "source": [
    "X= numerical [['customer_lifetime_value', 'income','monthly_premium_auto','months_since_last_claim','months_since_policy_inception','number_of_open_complaints','number_of_policies']]\n",
    "y = numerical ['total_claim_amount']"
   ]
  },
  {
   "cell_type": "code",
   "execution_count": 11,
   "id": "4f671d0e",
   "metadata": {},
   "outputs": [
    {
     "data": {
      "text/plain": [
       "0         292\n",
       "1         744\n",
       "2         480\n",
       "3         484\n",
       "4         707\n",
       "         ... \n",
       "10684    1214\n",
       "10685     273\n",
       "10686     381\n",
       "10687     618\n",
       "10688    1021\n",
       "Name: total_claim_amount, Length: 10689, dtype: int64"
      ]
     },
     "execution_count": 11,
     "metadata": {},
     "output_type": "execute_result"
    }
   ],
   "source": [
    "X\n",
    "y"
   ]
  },
  {
   "cell_type": "code",
   "execution_count": 12,
   "id": "13215f60",
   "metadata": {},
   "outputs": [
    {
     "name": "stdout",
     "output_type": "stream",
     "text": [
      "X_train (7482, 7)\n"
     ]
    }
   ],
   "source": [
    "X_train, X_test, y_train, y_test = train_test_split(X,y, test_size= 0.3, random_state = 42)\n",
    "print(\"X_train\", X_train.shape)"
   ]
  },
  {
   "cell_type": "code",
   "execution_count": 13,
   "id": "715d85da",
   "metadata": {},
   "outputs": [],
   "source": [
    "y = np.array(file3[\"total_claim_amount\"]).reshape(-1,1)"
   ]
  },
  {
   "cell_type": "code",
   "execution_count": 77,
   "id": "49f0fbf6",
   "metadata": {},
   "outputs": [],
   "source": [
    "pt = PowerTransformer(method='yeo-johnson')\n",
    "pt.fit(X_train)\n",
    "X_train_transformed = pt.transform(X_train)\n",
    "X_test_transformed = pt.transform(X_test)\n",
    "\n",
    "pt.fit(y_train)\n",
    "y_train_transformed = pt.transform(y_train)\n",
    "y_test_transformed = pt.transform(y_test)"
   ]
  },
  {
   "cell_type": "code",
   "execution_count": 78,
   "id": "8634818f",
   "metadata": {},
   "outputs": [
    {
     "name": "stdout",
     "output_type": "stream",
     "text": [
      "Slope = [[-2.08480481e-02 -1.43758190e-01  4.96258343e-01 -9.76148844e-05\n",
      "  -5.65452562e-03 -2.11877522e-02  1.97560397e-02]]\n",
      "Intercept = [-2.98780762e-14]\n"
     ]
    }
   ],
   "source": [
    "#lm = LinearRegression()\n",
    "#numerical = lm.fit(X_train_scaled, y_train)\n",
    "#numerical.coef_\n",
    "\n",
    "\n",
    "lm = LinearRegression()\n",
    "numerical = lm.fit(X_train_transformed,y_train_transformed)\n",
    "print(\"Slope =\", numerical.coef_)\n",
    "print(\"Intercept =\", numerical.intercept_)"
   ]
  },
  {
   "cell_type": "code",
   "execution_count": 79,
   "id": "1fd9fc77",
   "metadata": {},
   "outputs": [
    {
     "data": {
      "text/plain": [
       "array([-2.98780762e-14])"
      ]
     },
     "execution_count": 79,
     "metadata": {},
     "output_type": "execute_result"
    }
   ],
   "source": [
    "numerical.intercept_"
   ]
  },
  {
   "cell_type": "code",
   "execution_count": 80,
   "id": "6827e6bd",
   "metadata": {},
   "outputs": [],
   "source": [
    "from sklearn.metrics import mean_absolute_error as mae, mean_squared_error as mse"
   ]
  },
  {
   "cell_type": "code",
   "execution_count": 81,
   "id": "49a26946",
   "metadata": {},
   "outputs": [
    {
     "name": "stderr",
     "output_type": "stream",
     "text": [
      "/Users/kaan/anaconda3/lib/python3.10/site-packages/sklearn/base.py:413: UserWarning: X has feature names, but LinearRegression was fitted without feature names\n",
      "  warnings.warn(\n"
     ]
    },
    {
     "data": {
      "text/plain": [
       "array([[ 8976.99924749],\n",
       "       [13676.65294834],\n",
       "       [13391.12704068],\n",
       "       ...,\n",
       "       [ 3783.98810043],\n",
       "       [12560.65032139],\n",
       "       [ 6626.4982691 ]])"
      ]
     },
     "execution_count": 81,
     "metadata": {},
     "output_type": "execute_result"
    }
   ],
   "source": [
    "y_pred = numerical.predict(X_test)\n",
    "y_test - y_pred"
   ]
  },
  {
   "cell_type": "code",
   "execution_count": 82,
   "id": "10f1050b",
   "metadata": {},
   "outputs": [
    {
     "data": {
      "text/plain": [
       "75143438.98249713"
      ]
     },
     "execution_count": 82,
     "metadata": {},
     "output_type": "execute_result"
    }
   ],
   "source": [
    "mse(y_test,y_pred)"
   ]
  },
  {
   "cell_type": "code",
   "execution_count": 83,
   "id": "5f0a181f",
   "metadata": {
    "scrolled": true
   },
   "outputs": [
    {
     "data": {
      "text/plain": [
       "[<matplotlib.lines.Line2D at 0x7f8a34b5c250>]"
      ]
     },
     "execution_count": 83,
     "metadata": {},
     "output_type": "execute_result"
    },
    {
     "data": {
      "image/png": "[encoded data removed]",
      "text/plain": [
       "<Figure size 1400x400 with 3 Axes>"
      ]
     },
     "metadata": {},
     "output_type": "display_data"
    }
   ],
   "source": [
    "fig, ax = plt.subplots(1,3,figsize=(14,4))\n",
    "ax[0].plot(y_pred, y_test_transformed, 'o')\n",
    "ax[0].set_xlabel(\"y_test_transformed\")\n",
    "ax[0].set_ylabel(\"y_pred\")\n",
    "ax[0].set_title(\"Test Set -Predicted vs real\")\n",
    "\n",
    "# Get a histogram of the residuals ie: y - y_pred.  Homoscedasticity\n",
    "# Does it resemble a normal distribution?\n",
    "ax[1].hist(y_test_transformed - y_pred)\n",
    "ax[1].set_xlabel(\"Test y-y_pred\")\n",
    "ax[1].set_title(\"Test Set Residual histogram\")\n",
    "\n",
    "ax[2].plot(y_pred,y_test_transformed - y_pred,\"o\")\n",
    "ax[2].set_xlabel(\"predicted\")\n",
    "ax[2].set_ylabel(\"residuals\")\n",
    "ax[2].set_title(\"Residuals by Predicted\")\n",
    "ax[2].plot(y_pred,np.zeros(len(y_pred)),linestyle='dashed')"
   ]
  },
  {
   "cell_type": "markdown",
   "id": "104d1257",
   "metadata": {},
   "source": [
    "### Thursday"
   ]
  },
  {
   "cell_type": "code",
   "execution_count": 84,
   "id": "c31519ab",
   "metadata": {},
   "outputs": [
    {
     "data": {
      "text/html": [
       "<div>\n",
       "<style scoped>\n",
       "    .dataframe tbody tr th:only-of-type {\n",
       "        vertical-align: middle;\n",
       "    }\n",
       "\n",
       "    .dataframe tbody tr th {\n",
       "        vertical-align: top;\n",
       "    }\n",
       "\n",
       "    .dataframe thead th {\n",
       "        text-align: right;\n",
       "    }\n",
       "</style>\n",
       "<table border=\"1\" class=\"dataframe\">\n",
       "  <thead>\n",
       "    <tr style=\"text-align: right;\">\n",
       "      <th></th>\n",
       "      <th>column_name</th>\n",
       "      <th>coef</th>\n",
       "    </tr>\n",
       "  </thead>\n",
       "  <tbody>\n",
       "    <tr>\n",
       "      <th>0</th>\n",
       "      <td>customer_lifetime_value</td>\n",
       "      <td>-2.135947</td>\n",
       "    </tr>\n",
       "    <tr>\n",
       "      <th>1</th>\n",
       "      <td>income</td>\n",
       "      <td>-36.720197</td>\n",
       "    </tr>\n",
       "    <tr>\n",
       "      <th>2</th>\n",
       "      <td>monthly_premium_auto</td>\n",
       "      <td>161.122762</td>\n",
       "    </tr>\n",
       "    <tr>\n",
       "      <th>3</th>\n",
       "      <td>months_since_last_claim</td>\n",
       "      <td>3.552707</td>\n",
       "    </tr>\n",
       "    <tr>\n",
       "      <th>4</th>\n",
       "      <td>months_since_policy_inception</td>\n",
       "      <td>-2.033012</td>\n",
       "    </tr>\n",
       "    <tr>\n",
       "      <th>5</th>\n",
       "      <td>number_of_open_complaints</td>\n",
       "      <td>-1.177144</td>\n",
       "    </tr>\n",
       "    <tr>\n",
       "      <th>6</th>\n",
       "      <td>number_of_policies</td>\n",
       "      <td>1.588074</td>\n",
       "    </tr>\n",
       "  </tbody>\n",
       "</table>\n",
       "</div>"
      ],
      "text/plain": [
       "                     column_name        coef\n",
       "0        customer_lifetime_value   -2.135947\n",
       "1                         income  -36.720197\n",
       "2           monthly_premium_auto  161.122762\n",
       "3        months_since_last_claim    3.552707\n",
       "4  months_since_policy_inception   -2.033012\n",
       "5      number_of_open_complaints   -1.177144\n",
       "6             number_of_policies    1.588074"
      ]
     },
     "execution_count": 84,
     "metadata": {},
     "output_type": "execute_result"
    }
   ],
   "source": [
    "import pandas as pd\n",
    "# Define the data\n",
    "column_names = ['customer_lifetime_value', 'income', 'monthly_premium_auto',\n",
    "                'months_since_last_claim', 'months_since_policy_inception',\n",
    "                'number_of_open_complaints', 'number_of_policies']\n",
    "coef_values = [-2.13594719, -36.7201968 , 161.12276203,   3.5527067 ,\n",
    "         -2.03301237,  -1.17714444,   1.58807445]\n",
    "# Create the DataFrame\n",
    "data_coef_rank = pd.DataFrame({'column_name': column_names, 'coef': coef_values})\n",
    "# Display the DataFrame\n",
    "data_coef_rank"
   ]
  },
  {
   "cell_type": "code",
   "execution_count": 85,
   "id": "615aad41",
   "metadata": {
    "scrolled": true
   },
   "outputs": [
    {
     "data": {
      "image/png": "[encoded data removed]",
      "text/plain": [
       "<Figure size 1000x600 with 1 Axes>"
      ]
     },
     "metadata": {},
     "output_type": "display_data"
    }
   ],
   "source": [
    "import matplotlib.pyplot as plt\n",
    "\n",
    "# Set the figure size\n",
    "plt.figure(figsize=(10, 6))\n",
    "\n",
    "# Create the horizontal bar chart\n",
    "plt.barh(data_coef_rank['column_name'], data_coef_rank['coef'])\n",
    "\n",
    "# Set the axis labels and title\n",
    "plt.xlabel('Coefficient Value')\n",
    "plt.ylabel('Column Name')\n",
    "plt.title('Coefficient Rank')\n",
    "\n",
    "# Display the chart\n",
    "plt.show()\n"
   ]
  },
  {
   "cell_type": "code",
   "execution_count": 86,
   "id": "f64fcd3f",
   "metadata": {},
   "outputs": [
    {
     "name": "stdout",
     "output_type": "stream",
     "text": [
      "MSE = 68621011.65198445\n"
     ]
    }
   ],
   "source": [
    "from sklearn.metrics import mean_absolute_error as mae, mean_squared_error as mse, r2_score as r2\n",
    "mse = mse(y_test_transformed,y_pred)\n",
    "print(\"MSE =\",mse)"
   ]
  },
  {
   "cell_type": "code",
   "execution_count": 87,
   "id": "2271a889",
   "metadata": {},
   "outputs": [
    {
     "name": "stdout",
     "output_type": "stream",
     "text": [
      "MAE = 7478.042735048866\n"
     ]
    }
   ],
   "source": [
    "mae = mae(y_test_transformed,y_pred)\n",
    "print(\"MAE =\",mae)"
   ]
  },
  {
   "cell_type": "code",
   "execution_count": 88,
   "id": "4c487a0c",
   "metadata": {},
   "outputs": [],
   "source": [
    "import math"
   ]
  },
  {
   "cell_type": "code",
   "execution_count": 89,
   "id": "b233999f",
   "metadata": {},
   "outputs": [
    {
     "name": "stdout",
     "output_type": "stream",
     "text": [
      "RMSE = 8283.780034017347\n"
     ]
    }
   ],
   "source": [
    "RMSE = math.sqrt(mse)\n",
    "print(\"RMSE =\",RMSE)"
   ]
  },
  {
   "cell_type": "code",
   "execution_count": 90,
   "id": "6dd28c0b",
   "metadata": {},
   "outputs": [
    {
     "name": "stdout",
     "output_type": "stream",
     "text": [
      "R2 = -66209473.46755378\n"
     ]
    }
   ],
   "source": [
    "r2 = r2(y_test_transformed,y_pred)\n",
    "print(\"R2 =\",r2)"
   ]
  },
  {
   "cell_type": "code",
   "execution_count": 91,
   "id": "020fc13b",
   "metadata": {
    "scrolled": true
   },
   "outputs": [
    {
     "data": {
      "text/html": [
       "<div>\n",
       "<style scoped>\n",
       "    .dataframe tbody tr th:only-of-type {\n",
       "        vertical-align: middle;\n",
       "    }\n",
       "\n",
       "    .dataframe tbody tr th {\n",
       "        vertical-align: top;\n",
       "    }\n",
       "\n",
       "    .dataframe thead th {\n",
       "        text-align: right;\n",
       "    }\n",
       "</style>\n",
       "<table border=\"1\" class=\"dataframe\">\n",
       "  <thead>\n",
       "    <tr style=\"text-align: right;\">\n",
       "      <th></th>\n",
       "      <th>level_0</th>\n",
       "      <th>index</th>\n",
       "      <th>region</th>\n",
       "      <th>customer_lifetime_value</th>\n",
       "      <th>response</th>\n",
       "      <th>coverage</th>\n",
       "      <th>education</th>\n",
       "      <th>effective_to_date</th>\n",
       "      <th>month</th>\n",
       "      <th>employment_status</th>\n",
       "      <th>...</th>\n",
       "      <th>months_since_policy_inception</th>\n",
       "      <th>number_of_open_complaints</th>\n",
       "      <th>number_of_policies</th>\n",
       "      <th>policy_type</th>\n",
       "      <th>policy</th>\n",
       "      <th>renew_offer_type</th>\n",
       "      <th>sales_channel</th>\n",
       "      <th>total_claim_amount</th>\n",
       "      <th>vehicle_class</th>\n",
       "      <th>vehicle_size</th>\n",
       "    </tr>\n",
       "  </thead>\n",
       "  <tbody>\n",
       "    <tr>\n",
       "      <th>0</th>\n",
       "      <td>0</td>\n",
       "      <td>0</td>\n",
       "      <td>central</td>\n",
       "      <td>4809</td>\n",
       "      <td>no</td>\n",
       "      <td>basic</td>\n",
       "      <td>college</td>\n",
       "      <td>2/18/11</td>\n",
       "      <td>feb</td>\n",
       "      <td>employed</td>\n",
       "      <td>...</td>\n",
       "      <td>52</td>\n",
       "      <td>0</td>\n",
       "      <td>9</td>\n",
       "      <td>corporate auto</td>\n",
       "      <td>corporate l3</td>\n",
       "      <td>offer3</td>\n",
       "      <td>agent</td>\n",
       "      <td>292</td>\n",
       "      <td>four-door car</td>\n",
       "      <td>medsize</td>\n",
       "    </tr>\n",
       "    <tr>\n",
       "      <th>1</th>\n",
       "      <td>1</td>\n",
       "      <td>1</td>\n",
       "      <td>west region</td>\n",
       "      <td>2228</td>\n",
       "      <td>no</td>\n",
       "      <td>basic</td>\n",
       "      <td>college</td>\n",
       "      <td>1/18/11</td>\n",
       "      <td>jan</td>\n",
       "      <td>unemployed</td>\n",
       "      <td>...</td>\n",
       "      <td>26</td>\n",
       "      <td>0</td>\n",
       "      <td>1</td>\n",
       "      <td>personal auto</td>\n",
       "      <td>personal l3</td>\n",
       "      <td>offer4</td>\n",
       "      <td>call center</td>\n",
       "      <td>744</td>\n",
       "      <td>four-door car</td>\n",
       "      <td>medsize</td>\n",
       "    </tr>\n",
       "    <tr>\n",
       "      <th>2</th>\n",
       "      <td>2</td>\n",
       "      <td>2</td>\n",
       "      <td>east</td>\n",
       "      <td>14947</td>\n",
       "      <td>no</td>\n",
       "      <td>basic</td>\n",
       "      <td>bachelor</td>\n",
       "      <td>2/10/11</td>\n",
       "      <td>feb</td>\n",
       "      <td>employed</td>\n",
       "      <td>...</td>\n",
       "      <td>31</td>\n",
       "      <td>0</td>\n",
       "      <td>2</td>\n",
       "      <td>personal auto</td>\n",
       "      <td>personal l3</td>\n",
       "      <td>offer3</td>\n",
       "      <td>call center</td>\n",
       "      <td>480</td>\n",
       "      <td>suv</td>\n",
       "      <td>medsize</td>\n",
       "    </tr>\n",
       "    <tr>\n",
       "      <th>3</th>\n",
       "      <td>3</td>\n",
       "      <td>3</td>\n",
       "      <td>north west</td>\n",
       "      <td>22332</td>\n",
       "      <td>yes</td>\n",
       "      <td>extended</td>\n",
       "      <td>college</td>\n",
       "      <td>1/11/11</td>\n",
       "      <td>jan</td>\n",
       "      <td>employed</td>\n",
       "      <td>...</td>\n",
       "      <td>3</td>\n",
       "      <td>0</td>\n",
       "      <td>2</td>\n",
       "      <td>corporate auto</td>\n",
       "      <td>corporate l3</td>\n",
       "      <td>offer2</td>\n",
       "      <td>branch</td>\n",
       "      <td>484</td>\n",
       "      <td>four-door car</td>\n",
       "      <td>medsize</td>\n",
       "    </tr>\n",
       "    <tr>\n",
       "      <th>4</th>\n",
       "      <td>4</td>\n",
       "      <td>4</td>\n",
       "      <td>north west</td>\n",
       "      <td>9025</td>\n",
       "      <td>no</td>\n",
       "      <td>premium</td>\n",
       "      <td>bachelor</td>\n",
       "      <td>1/17/11</td>\n",
       "      <td>jan</td>\n",
       "      <td>medical leave</td>\n",
       "      <td>...</td>\n",
       "      <td>31</td>\n",
       "      <td>0</td>\n",
       "      <td>7</td>\n",
       "      <td>personal auto</td>\n",
       "      <td>personal l2</td>\n",
       "      <td>offer1</td>\n",
       "      <td>branch</td>\n",
       "      <td>707</td>\n",
       "      <td>four-door car</td>\n",
       "      <td>medsize</td>\n",
       "    </tr>\n",
       "    <tr>\n",
       "      <th>...</th>\n",
       "      <td>...</td>\n",
       "      <td>...</td>\n",
       "      <td>...</td>\n",
       "      <td>...</td>\n",
       "      <td>...</td>\n",
       "      <td>...</td>\n",
       "      <td>...</td>\n",
       "      <td>...</td>\n",
       "      <td>...</td>\n",
       "      <td>...</td>\n",
       "      <td>...</td>\n",
       "      <td>...</td>\n",
       "      <td>...</td>\n",
       "      <td>...</td>\n",
       "      <td>...</td>\n",
       "      <td>...</td>\n",
       "      <td>...</td>\n",
       "      <td>...</td>\n",
       "      <td>...</td>\n",
       "      <td>...</td>\n",
       "      <td>...</td>\n",
       "    </tr>\n",
       "    <tr>\n",
       "      <th>10684</th>\n",
       "      <td>10684</td>\n",
       "      <td>10684</td>\n",
       "      <td>central</td>\n",
       "      <td>15563</td>\n",
       "      <td>no</td>\n",
       "      <td>premium</td>\n",
       "      <td>bachelor</td>\n",
       "      <td>1/19/11</td>\n",
       "      <td>jan</td>\n",
       "      <td>unemployed</td>\n",
       "      <td>...</td>\n",
       "      <td>40</td>\n",
       "      <td>0</td>\n",
       "      <td>7</td>\n",
       "      <td>personal auto</td>\n",
       "      <td>personal l1</td>\n",
       "      <td>offer3</td>\n",
       "      <td>web</td>\n",
       "      <td>1214</td>\n",
       "      <td>luxury car</td>\n",
       "      <td>medsize</td>\n",
       "    </tr>\n",
       "    <tr>\n",
       "      <th>10685</th>\n",
       "      <td>10685</td>\n",
       "      <td>10685</td>\n",
       "      <td>north west</td>\n",
       "      <td>5259</td>\n",
       "      <td>no</td>\n",
       "      <td>basic</td>\n",
       "      <td>college</td>\n",
       "      <td>1/6/11</td>\n",
       "      <td>jan</td>\n",
       "      <td>employed</td>\n",
       "      <td>...</td>\n",
       "      <td>68</td>\n",
       "      <td>0</td>\n",
       "      <td>6</td>\n",
       "      <td>personal auto</td>\n",
       "      <td>personal l3</td>\n",
       "      <td>offer2</td>\n",
       "      <td>branch</td>\n",
       "      <td>273</td>\n",
       "      <td>four-door car</td>\n",
       "      <td>medsize</td>\n",
       "    </tr>\n",
       "    <tr>\n",
       "      <th>10686</th>\n",
       "      <td>10686</td>\n",
       "      <td>10686</td>\n",
       "      <td>central</td>\n",
       "      <td>23893</td>\n",
       "      <td>no</td>\n",
       "      <td>extended</td>\n",
       "      <td>bachelor</td>\n",
       "      <td>2/6/11</td>\n",
       "      <td>feb</td>\n",
       "      <td>employed</td>\n",
       "      <td>...</td>\n",
       "      <td>63</td>\n",
       "      <td>0</td>\n",
       "      <td>2</td>\n",
       "      <td>corporate auto</td>\n",
       "      <td>corporate l3</td>\n",
       "      <td>offer1</td>\n",
       "      <td>web</td>\n",
       "      <td>381</td>\n",
       "      <td>luxury suv</td>\n",
       "      <td>medsize</td>\n",
       "    </tr>\n",
       "    <tr>\n",
       "      <th>10687</th>\n",
       "      <td>10687</td>\n",
       "      <td>10687</td>\n",
       "      <td>west region</td>\n",
       "      <td>11971</td>\n",
       "      <td>no</td>\n",
       "      <td>premium</td>\n",
       "      <td>college</td>\n",
       "      <td>2/13/11</td>\n",
       "      <td>feb</td>\n",
       "      <td>employed</td>\n",
       "      <td>...</td>\n",
       "      <td>27</td>\n",
       "      <td>4</td>\n",
       "      <td>6</td>\n",
       "      <td>personal auto</td>\n",
       "      <td>personal l1</td>\n",
       "      <td>offer1</td>\n",
       "      <td>branch</td>\n",
       "      <td>618</td>\n",
       "      <td>suv</td>\n",
       "      <td>medsize</td>\n",
       "    </tr>\n",
       "    <tr>\n",
       "      <th>10688</th>\n",
       "      <td>10688</td>\n",
       "      <td>10688</td>\n",
       "      <td>central</td>\n",
       "      <td>6857</td>\n",
       "      <td>no</td>\n",
       "      <td>basic</td>\n",
       "      <td>bachelor</td>\n",
       "      <td>1/8/11</td>\n",
       "      <td>jan</td>\n",
       "      <td>unemployed</td>\n",
       "      <td>...</td>\n",
       "      <td>1</td>\n",
       "      <td>0</td>\n",
       "      <td>3</td>\n",
       "      <td>personal auto</td>\n",
       "      <td>personal l1</td>\n",
       "      <td>offer4</td>\n",
       "      <td>web</td>\n",
       "      <td>1021</td>\n",
       "      <td>suv</td>\n",
       "      <td>medsize</td>\n",
       "    </tr>\n",
       "  </tbody>\n",
       "</table>\n",
       "<p>10689 rows × 26 columns</p>\n",
       "</div>"
      ],
      "text/plain": [
       "       level_0  index       region  customer_lifetime_value response  \\\n",
       "0            0      0      central                     4809       no   \n",
       "1            1      1  west region                     2228       no   \n",
       "2            2      2         east                    14947       no   \n",
       "3            3      3   north west                    22332      yes   \n",
       "4            4      4   north west                     9025       no   \n",
       "...        ...    ...          ...                      ...      ...   \n",
       "10684    10684  10684      central                    15563       no   \n",
       "10685    10685  10685   north west                     5259       no   \n",
       "10686    10686  10686      central                    23893       no   \n",
       "10687    10687  10687  west region                    11971       no   \n",
       "10688    10688  10688      central                     6857       no   \n",
       "\n",
       "       coverage education effective_to_date month employment_status  ...  \\\n",
       "0         basic   college           2/18/11   feb          employed  ...   \n",
       "1         basic   college           1/18/11   jan        unemployed  ...   \n",
       "2         basic  bachelor           2/10/11   feb          employed  ...   \n",
       "3      extended   college           1/11/11   jan          employed  ...   \n",
       "4       premium  bachelor           1/17/11   jan     medical leave  ...   \n",
       "...         ...       ...               ...   ...               ...  ...   \n",
       "10684   premium  bachelor           1/19/11   jan        unemployed  ...   \n",
       "10685     basic   college            1/6/11   jan          employed  ...   \n",
       "10686  extended  bachelor            2/6/11   feb          employed  ...   \n",
       "10687   premium   college           2/13/11   feb          employed  ...   \n",
       "10688     basic  bachelor            1/8/11   jan        unemployed  ...   \n",
       "\n",
       "      months_since_policy_inception  number_of_open_complaints  \\\n",
       "0                                52                          0   \n",
       "1                                26                          0   \n",
       "2                                31                          0   \n",
       "3                                 3                          0   \n",
       "4                                31                          0   \n",
       "...                             ...                        ...   \n",
       "10684                            40                          0   \n",
       "10685                            68                          0   \n",
       "10686                            63                          0   \n",
       "10687                            27                          4   \n",
       "10688                             1                          0   \n",
       "\n",
       "      number_of_policies     policy_type        policy  renew_offer_type  \\\n",
       "0                      9  corporate auto  corporate l3            offer3   \n",
       "1                      1   personal auto   personal l3            offer4   \n",
       "2                      2   personal auto   personal l3            offer3   \n",
       "3                      2  corporate auto  corporate l3            offer2   \n",
       "4                      7   personal auto   personal l2            offer1   \n",
       "...                  ...             ...           ...               ...   \n",
       "10684                  7   personal auto   personal l1            offer3   \n",
       "10685                  6   personal auto   personal l3            offer2   \n",
       "10686                  2  corporate auto  corporate l3            offer1   \n",
       "10687                  6   personal auto   personal l1            offer1   \n",
       "10688                  3   personal auto   personal l1            offer4   \n",
       "\n",
       "       sales_channel  total_claim_amount  vehicle_class vehicle_size  \n",
       "0              agent                 292  four-door car      medsize  \n",
       "1        call center                 744  four-door car      medsize  \n",
       "2        call center                 480            suv      medsize  \n",
       "3             branch                 484  four-door car      medsize  \n",
       "4             branch                 707  four-door car      medsize  \n",
       "...              ...                 ...            ...          ...  \n",
       "10684            web                1214     luxury car      medsize  \n",
       "10685         branch                 273  four-door car      medsize  \n",
       "10686            web                 381     luxury suv      medsize  \n",
       "10687         branch                 618            suv      medsize  \n",
       "10688            web                1021            suv      medsize  \n",
       "\n",
       "[10689 rows x 26 columns]"
      ]
     },
     "execution_count": 91,
     "metadata": {},
     "output_type": "execute_result"
    }
   ],
   "source": [
    "file3"
   ]
  },
  {
   "cell_type": "code",
   "execution_count": 92,
   "id": "a82431f2",
   "metadata": {},
   "outputs": [
    {
     "ename": "ValueError",
     "evalue": "cannot insert level_0, already exists",
     "output_type": "error",
     "traceback": [
      "\u001b[0;31m---------------------------------------------------------------------------\u001b[0m",
      "\u001b[0;31mValueError\u001b[0m                                Traceback (most recent call last)",
      "Cell \u001b[0;32mIn[92], line 1\u001b[0m\n\u001b[0;32m----> 1\u001b[0m file3 \u001b[38;5;241m=\u001b[39m \u001b[43mfile3\u001b[49m\u001b[38;5;241;43m.\u001b[39;49m\u001b[43mreset_index\u001b[49m\u001b[43m(\u001b[49m\u001b[43m)\u001b[49m\n\u001b[1;32m      2\u001b[0m file3\u001b[38;5;241m.\u001b[39mhead()\n",
      "File \u001b[0;32m~/anaconda3/lib/python3.10/site-packages/pandas/util/_decorators.py:331\u001b[0m, in \u001b[0;36mdeprecate_nonkeyword_arguments.<locals>.decorate.<locals>.wrapper\u001b[0;34m(*args, **kwargs)\u001b[0m\n\u001b[1;32m    325\u001b[0m \u001b[38;5;28;01mif\u001b[39;00m \u001b[38;5;28mlen\u001b[39m(args) \u001b[38;5;241m>\u001b[39m num_allow_args:\n\u001b[1;32m    326\u001b[0m     warnings\u001b[38;5;241m.\u001b[39mwarn(\n\u001b[1;32m    327\u001b[0m         msg\u001b[38;5;241m.\u001b[39mformat(arguments\u001b[38;5;241m=\u001b[39m_format_argument_list(allow_args)),\n\u001b[1;32m    328\u001b[0m         \u001b[38;5;167;01mFutureWarning\u001b[39;00m,\n\u001b[1;32m    329\u001b[0m         stacklevel\u001b[38;5;241m=\u001b[39mfind_stack_level(),\n\u001b[1;32m    330\u001b[0m     )\n\u001b[0;32m--> 331\u001b[0m \u001b[38;5;28;01mreturn\u001b[39;00m \u001b[43mfunc\u001b[49m\u001b[43m(\u001b[49m\u001b[38;5;241;43m*\u001b[39;49m\u001b[43margs\u001b[49m\u001b[43m,\u001b[49m\u001b[43m \u001b[49m\u001b[38;5;241;43m*\u001b[39;49m\u001b[38;5;241;43m*\u001b[39;49m\u001b[43mkwargs\u001b[49m\u001b[43m)\u001b[49m\n",
      "File \u001b[0;32m~/anaconda3/lib/python3.10/site-packages/pandas/core/frame.py:6361\u001b[0m, in \u001b[0;36mDataFrame.reset_index\u001b[0;34m(self, level, drop, inplace, col_level, col_fill, allow_duplicates, names)\u001b[0m\n\u001b[1;32m   6355\u001b[0m         \u001b[38;5;28;01mif\u001b[39;00m lab \u001b[38;5;129;01mis\u001b[39;00m \u001b[38;5;129;01mnot\u001b[39;00m \u001b[38;5;28;01mNone\u001b[39;00m:\n\u001b[1;32m   6356\u001b[0m             \u001b[38;5;66;03m# if we have the codes, extract the values with a mask\u001b[39;00m\n\u001b[1;32m   6357\u001b[0m             level_values \u001b[38;5;241m=\u001b[39m algorithms\u001b[38;5;241m.\u001b[39mtake(\n\u001b[1;32m   6358\u001b[0m                 level_values, lab, allow_fill\u001b[38;5;241m=\u001b[39m\u001b[38;5;28;01mTrue\u001b[39;00m, fill_value\u001b[38;5;241m=\u001b[39mlev\u001b[38;5;241m.\u001b[39m_na_value\n\u001b[1;32m   6359\u001b[0m             )\n\u001b[0;32m-> 6361\u001b[0m         \u001b[43mnew_obj\u001b[49m\u001b[38;5;241;43m.\u001b[39;49m\u001b[43minsert\u001b[49m\u001b[43m(\u001b[49m\n\u001b[1;32m   6362\u001b[0m \u001b[43m            \u001b[49m\u001b[38;5;241;43m0\u001b[39;49m\u001b[43m,\u001b[49m\n\u001b[1;32m   6363\u001b[0m \u001b[43m            \u001b[49m\u001b[43mname\u001b[49m\u001b[43m,\u001b[49m\n\u001b[1;32m   6364\u001b[0m \u001b[43m            \u001b[49m\u001b[43mlevel_values\u001b[49m\u001b[43m,\u001b[49m\n\u001b[1;32m   6365\u001b[0m \u001b[43m            \u001b[49m\u001b[43mallow_duplicates\u001b[49m\u001b[38;5;241;43m=\u001b[39;49m\u001b[43mallow_duplicates\u001b[49m\u001b[43m,\u001b[49m\n\u001b[1;32m   6366\u001b[0m \u001b[43m        \u001b[49m\u001b[43m)\u001b[49m\n\u001b[1;32m   6368\u001b[0m new_obj\u001b[38;5;241m.\u001b[39mindex \u001b[38;5;241m=\u001b[39m new_index\n\u001b[1;32m   6369\u001b[0m \u001b[38;5;28;01mif\u001b[39;00m \u001b[38;5;129;01mnot\u001b[39;00m inplace:\n",
      "File \u001b[0;32m~/anaconda3/lib/python3.10/site-packages/pandas/core/frame.py:4817\u001b[0m, in \u001b[0;36mDataFrame.insert\u001b[0;34m(self, loc, column, value, allow_duplicates)\u001b[0m\n\u001b[1;32m   4811\u001b[0m     \u001b[38;5;28;01mraise\u001b[39;00m \u001b[38;5;167;01mValueError\u001b[39;00m(\n\u001b[1;32m   4812\u001b[0m         \u001b[38;5;124m\"\u001b[39m\u001b[38;5;124mCannot specify \u001b[39m\u001b[38;5;124m'\u001b[39m\u001b[38;5;124mallow_duplicates=True\u001b[39m\u001b[38;5;124m'\u001b[39m\u001b[38;5;124m when \u001b[39m\u001b[38;5;124m\"\u001b[39m\n\u001b[1;32m   4813\u001b[0m         \u001b[38;5;124m\"\u001b[39m\u001b[38;5;124m'\u001b[39m\u001b[38;5;124mself.flags.allows_duplicate_labels\u001b[39m\u001b[38;5;124m'\u001b[39m\u001b[38;5;124m is False.\u001b[39m\u001b[38;5;124m\"\u001b[39m\n\u001b[1;32m   4814\u001b[0m     )\n\u001b[1;32m   4815\u001b[0m \u001b[38;5;28;01mif\u001b[39;00m \u001b[38;5;129;01mnot\u001b[39;00m allow_duplicates \u001b[38;5;129;01mand\u001b[39;00m column \u001b[38;5;129;01min\u001b[39;00m \u001b[38;5;28mself\u001b[39m\u001b[38;5;241m.\u001b[39mcolumns:\n\u001b[1;32m   4816\u001b[0m     \u001b[38;5;66;03m# Should this be a different kind of error??\u001b[39;00m\n\u001b[0;32m-> 4817\u001b[0m     \u001b[38;5;28;01mraise\u001b[39;00m \u001b[38;5;167;01mValueError\u001b[39;00m(\u001b[38;5;124mf\u001b[39m\u001b[38;5;124m\"\u001b[39m\u001b[38;5;124mcannot insert \u001b[39m\u001b[38;5;132;01m{\u001b[39;00mcolumn\u001b[38;5;132;01m}\u001b[39;00m\u001b[38;5;124m, already exists\u001b[39m\u001b[38;5;124m\"\u001b[39m)\n\u001b[1;32m   4818\u001b[0m \u001b[38;5;28;01mif\u001b[39;00m \u001b[38;5;129;01mnot\u001b[39;00m \u001b[38;5;28misinstance\u001b[39m(loc, \u001b[38;5;28mint\u001b[39m):\n\u001b[1;32m   4819\u001b[0m     \u001b[38;5;28;01mraise\u001b[39;00m \u001b[38;5;167;01mTypeError\u001b[39;00m(\u001b[38;5;124m\"\u001b[39m\u001b[38;5;124mloc must be int\u001b[39m\u001b[38;5;124m\"\u001b[39m)\n",
      "\u001b[0;31mValueError\u001b[0m: cannot insert level_0, already exists"
     ]
    }
   ],
   "source": [
    "file3 = file3.reset_index()\n",
    "file3.head()"
   ]
  },
  {
   "cell_type": "code",
   "execution_count": 93,
   "id": "a1056127",
   "metadata": {},
   "outputs": [],
   "source": [
    "y = np.array(file3[\"total_claim_amount\"]).reshape(-1,1)"
   ]
  },
  {
   "cell_type": "code",
   "execution_count": 94,
   "id": "89b114d7",
   "metadata": {},
   "outputs": [],
   "source": [
    "X_train, X_test, y_train, y_test = train_test_split(X,y, test_size=0.3, random_state = 100)"
   ]
  },
  {
   "cell_type": "code",
   "execution_count": 95,
   "id": "b829b3f1",
   "metadata": {},
   "outputs": [],
   "source": [
    "pt = PowerTransformer(method='yeo-johnson')\n",
    "pt.fit(X_train)\n",
    "X_train_transformed = pt.transform(X_train)\n",
    "X_test_transformed = pt.transform(X_test)"
   ]
  },
  {
   "cell_type": "code",
   "execution_count": 96,
   "id": "e1fc4657",
   "metadata": {},
   "outputs": [],
   "source": [
    "pt.fit(y_train)\n",
    "y_train_transformed = pt.transform(y_train)\n",
    "y_test_transformed = pt.transform(y_test)"
   ]
  },
  {
   "cell_type": "code",
   "execution_count": 97,
   "id": "223bab3f",
   "metadata": {},
   "outputs": [
    {
     "name": "stdout",
     "output_type": "stream",
     "text": [
      "Slope = [[-2.08480481e-02 -1.43758190e-01  4.96258343e-01 -9.76148844e-05\n",
      "  -5.65452562e-03 -2.11877522e-02  1.97560397e-02]]\n",
      "Intercept = [-2.98780762e-14]\n"
     ]
    }
   ],
   "source": [
    "lm = LinearRegression()\n",
    "model = lm.fit(X_train_transformed,y_train_transformed)\n",
    "print(\"Slope =\", model.coef_)\n",
    "print(\"Intercept =\", model.intercept_)"
   ]
  },
  {
   "cell_type": "code",
   "execution_count": 98,
   "id": "0be8824d",
   "metadata": {},
   "outputs": [
    {
     "data": {
      "text/html": [
       "<div>\n",
       "<style scoped>\n",
       "    .dataframe tbody tr th:only-of-type {\n",
       "        vertical-align: middle;\n",
       "    }\n",
       "\n",
       "    .dataframe tbody tr th {\n",
       "        vertical-align: top;\n",
       "    }\n",
       "\n",
       "    .dataframe thead th {\n",
       "        text-align: right;\n",
       "    }\n",
       "</style>\n",
       "<table border=\"1\" class=\"dataframe\">\n",
       "  <thead>\n",
       "    <tr style=\"text-align: right;\">\n",
       "      <th></th>\n",
       "      <th>y_test</th>\n",
       "      <th>y_pred</th>\n",
       "    </tr>\n",
       "  </thead>\n",
       "  <tbody>\n",
       "    <tr>\n",
       "      <th>0</th>\n",
       "      <td>[-0.24396624958434066]</td>\n",
       "      <td>[-0.5329755038427556]</td>\n",
       "    </tr>\n",
       "    <tr>\n",
       "      <th>1</th>\n",
       "      <td>[0.26434240768752915]</td>\n",
       "      <td>[0.43784774727757897]</td>\n",
       "    </tr>\n",
       "    <tr>\n",
       "      <th>2</th>\n",
       "      <td>[-2.217679240628924]</td>\n",
       "      <td>[0.40376159507645204]</td>\n",
       "    </tr>\n",
       "    <tr>\n",
       "      <th>3</th>\n",
       "      <td>[-1.3251063471108266]</td>\n",
       "      <td>[0.014589861264761257]</td>\n",
       "    </tr>\n",
       "    <tr>\n",
       "      <th>4</th>\n",
       "      <td>[1.7008351797377181]</td>\n",
       "      <td>[0.9718752095469454]</td>\n",
       "    </tr>\n",
       "    <tr>\n",
       "      <th>...</th>\n",
       "      <td>...</td>\n",
       "      <td>...</td>\n",
       "    </tr>\n",
       "    <tr>\n",
       "      <th>3202</th>\n",
       "      <td>[0.22065479805990468]</td>\n",
       "      <td>[-0.9183327212290072]</td>\n",
       "    </tr>\n",
       "    <tr>\n",
       "      <th>3203</th>\n",
       "      <td>[0.2409017326320982]</td>\n",
       "      <td>[0.6686653167342367]</td>\n",
       "    </tr>\n",
       "    <tr>\n",
       "      <th>3204</th>\n",
       "      <td>[2.2392343647745285]</td>\n",
       "      <td>[1.1509166638082804]</td>\n",
       "    </tr>\n",
       "    <tr>\n",
       "      <th>3205</th>\n",
       "      <td>[-1.5646410368808357]</td>\n",
       "      <td>[-0.8757387844982374]</td>\n",
       "    </tr>\n",
       "    <tr>\n",
       "      <th>3206</th>\n",
       "      <td>[-1.6164273984937825]</td>\n",
       "      <td>[0.046080302347932124]</td>\n",
       "    </tr>\n",
       "  </tbody>\n",
       "</table>\n",
       "<p>3207 rows × 2 columns</p>\n",
       "</div>"
      ],
      "text/plain": [
       "                      y_test                  y_pred\n",
       "0     [-0.24396624958434066]   [-0.5329755038427556]\n",
       "1      [0.26434240768752915]   [0.43784774727757897]\n",
       "2       [-2.217679240628924]   [0.40376159507645204]\n",
       "3      [-1.3251063471108266]  [0.014589861264761257]\n",
       "4       [1.7008351797377181]    [0.9718752095469454]\n",
       "...                      ...                     ...\n",
       "3202   [0.22065479805990468]   [-0.9183327212290072]\n",
       "3203    [0.2409017326320982]    [0.6686653167342367]\n",
       "3204    [2.2392343647745285]    [1.1509166638082804]\n",
       "3205   [-1.5646410368808357]   [-0.8757387844982374]\n",
       "3206   [-1.6164273984937825]  [0.046080302347932124]\n",
       "\n",
       "[3207 rows x 2 columns]"
      ]
     },
     "execution_count": 98,
     "metadata": {},
     "output_type": "execute_result"
    }
   ],
   "source": [
    "y_pred = model.predict(X_test_transformed)\n",
    "compare = pd.DataFrame({'y_test':list(y_test_transformed) ,'y_pred': list(y_pred)})\n",
    "compare"
   ]
  },
  {
   "cell_type": "code",
   "execution_count": 99,
   "id": "b61300d0",
   "metadata": {
    "scrolled": false
   },
   "outputs": [
    {
     "data": {
      "text/plain": [
       "[<matplotlib.lines.Line2D at 0x7f8a35628e80>]"
      ]
     },
     "execution_count": 99,
     "metadata": {},
     "output_type": "execute_result"
    },
    {
     "data": {
      "image/png": "[encoded data removed]",
      "text/plain": [
       "<Figure size 1400x400 with 3 Axes>"
      ]
     },
     "metadata": {},
     "output_type": "display_data"
    }
   ],
   "source": [
    "fig, ax = plt.subplots(1,3,figsize=(14,4))\n",
    "ax[0].plot(y_pred, y_test_transformed, 'o')\n",
    "ax[0].set_xlabel(\"y_test_transformed\")\n",
    "ax[0].set_ylabel(\"y_pred\")\n",
    "ax[0].set_title(\"Test Set -Predicted vs real\")\n",
    "\n",
    "# Get a histogram of the residuals ie: y - y_pred.  Homoscedasticity\n",
    "# Does it resemble a normal distribution?\n",
    "ax[1].hist(y_test_transformed - y_pred)\n",
    "ax[1].set_xlabel(\"Test y-y_pred\")\n",
    "ax[1].set_title(\"Test Set Residual histogram\")\n",
    "\n",
    "ax[2].plot(y_pred,y_test_transformed - y_pred,\"o\")\n",
    "ax[2].set_xlabel(\"predicted\")\n",
    "ax[2].set_ylabel(\"residuals\")\n",
    "ax[2].set_title(\"Residuals by Predicted\")\n",
    "ax[2].plot(y_pred,np.zeros(len(y_pred)),linestyle='dashed')"
   ]
  },
  {
   "cell_type": "code",
   "execution_count": 100,
   "id": "851651e4",
   "metadata": {},
   "outputs": [
    {
     "name": "stdout",
     "output_type": "stream",
     "text": [
      "MSE = 0.7637981044286775\n"
     ]
    }
   ],
   "source": [
    "from sklearn.metrics import mean_absolute_error as mae, mean_squared_error as mse, r2_score as r2\n",
    "mse = mse(y_test_transformed,y_pred)\n",
    "print(\"MSE =\",mse)"
   ]
  },
  {
   "cell_type": "code",
   "execution_count": 101,
   "id": "65afe5de",
   "metadata": {},
   "outputs": [
    {
     "name": "stdout",
     "output_type": "stream",
     "text": [
      "MAE = 0.6295226660494436\n"
     ]
    }
   ],
   "source": [
    "mae = mae(y_test_transformed,y_pred)\n",
    "print(\"MAE =\",mae)"
   ]
  },
  {
   "cell_type": "code",
   "execution_count": 102,
   "id": "9472668f",
   "metadata": {},
   "outputs": [
    {
     "name": "stdout",
     "output_type": "stream",
     "text": [
      "RMSE = 0.8739554361800591\n"
     ]
    }
   ],
   "source": [
    "RMSE = math.sqrt(mse)\n",
    "print(\"RMSE =\",RMSE)"
   ]
  },
  {
   "cell_type": "code",
   "execution_count": 103,
   "id": "bb139593",
   "metadata": {},
   "outputs": [
    {
     "name": "stdout",
     "output_type": "stream",
     "text": [
      "R2 = 0.2630439296055753\n"
     ]
    }
   ],
   "source": [
    "r2 = r2(y_test_transformed,y_pred)\n",
    "print(\"R2 =\",r2)"
   ]
  },
  {
   "cell_type": "markdown",
   "id": "fb521d24",
   "metadata": {},
   "source": [
    "### optional question"
   ]
  },
  {
   "cell_type": "code",
   "execution_count": 124,
   "id": "31081c4f",
   "metadata": {},
   "outputs": [
    {
     "name": "stdout",
     "output_type": "stream",
     "text": [
      "R-squared value: 7.415603285099159e-06\n"
     ]
    }
   ],
   "source": [
    "file3_copy = file3.copy()\n",
    "summary= file3_copy.describe()\n",
    "summary = file3_copy\n",
    "file3_copy = file3_copy.reset_index(drop=True)\n",
    "from sklearn.linear_model import LinearRegression\n",
    "from sklearn.metrics import r2_score\n",
    "\n",
    "\n",
    "\n",
    "# Calculate z-scores for the 'customer_lifetime_value' column\n",
    "file3_copy['customer_lifetime_value_zscore'] = zscore(file3_copy['customer_lifetime_value'])\n",
    "\n",
    "# Define the threshold for detecting outliers (e.g., z-score greater than 3)\n",
    "threshold = 3\n",
    "\n",
    "# Drop the outliers based on the threshold\n",
    "file3_copy_without_outliers = file3_copy[file3_copy['customer_lifetime_value_zscore'] < threshold]\n",
    "\n",
    "# Create a linear regression model\n",
    "model = LinearRegression()\n",
    "\n",
    "# Fit the model using the standardized 'customer_lifetime_value' column without outliers\n",
    "model.fit(file3_copy_without_outliers[['customer_lifetime_value_zscore']], file3_copy_without_outliers['income'])\n",
    "\n",
    "# Make predictions using the standardized 'customer_lifetime_value' column without outliers\n",
    "predictions = model.predict(file3_copy_without_outliers[['customer_lifetime_value_zscore']])\n",
    "\n",
    "# Calculate the R-squared value\n",
    "r2 = r2_score(file3_copy_without_outliers['income'], predictions)\n",
    "\n",
    "# Print the R-squared value\n",
    "print(\"R-squared value:\", r2)"
   ]
  }
 ],
 "metadata": {
  "kernelspec": {
   "display_name": "Python 3 (ipykernel)",
   "language": "python",
   "name": "python3"
  },
  "language_info": {
   "codemirror_mode": {
    "name": "ipython",
    "version": 3
   },
   "file_extension": ".py",
   "mimetype": "text/x-python",
   "name": "python",
   "nbconvert_exporter": "python",
   "pygments_lexer": "ipython3",
   "version": "3.10.9"
  }
 },
 "nbformat": 4,
 "nbformat_minor": 5
}
