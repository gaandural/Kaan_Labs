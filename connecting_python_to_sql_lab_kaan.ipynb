{
 "cells": [
  {
   "cell_type": "code",
   "execution_count": 34,
   "id": "8ed18258",
   "metadata": {},
   "outputs": [
    {
     "name": "stdout",
     "output_type": "stream",
     "text": [
      "Requirement already satisfied: pymysql in /Users/kaan/anaconda3/lib/python3.10/site-packages (1.0.3)\r\n"
     ]
    }
   ],
   "source": [
    "!pip3 install pymysql\n",
    "import pandas as pd\n",
    "import getpass\n",
    "import sqlalchemy as sa"
   ]
  },
  {
   "cell_type": "code",
   "execution_count": null,
   "id": "3253f334",
   "metadata": {},
   "outputs": [],
   "source": [
    "driver = 'mysql+pymysql'\n",
    "user = 'root'\n",
    "password = getpass.getpass(prompt='Your password:'\"\")\n",
    "ip = '127.0.0.1'  "
   ]
  },
  {
   "cell_type": "code",
   "execution_count": null,
   "id": "d5c0cdb2",
   "metadata": {},
   "outputs": [],
   "source": [
    "connection_string = f'{driver}://{user}:{password}@{ip}'"
   ]
  },
  {
   "cell_type": "code",
   "execution_count": null,
   "id": "5296d399",
   "metadata": {},
   "outputs": [],
   "source": [
    "db_connection = sa.create_engine(connection_string)"
   ]
  },
  {
   "cell_type": "code",
   "execution_count": null,
   "id": "05e033a8",
   "metadata": {},
   "outputs": [],
   "source": [
    "insp = sa.inspect(db_connection)\n",
    "db_list = insp.get_schema_names()\n",
    "print(db_list)"
   ]
  },
  {
   "cell_type": "code",
   "execution_count": null,
   "id": "66d4494e",
   "metadata": {},
   "outputs": [],
   "source": [
    "#loan_id_threshold=5300\n",
    "#query = 'SELECT * FROM bank.loan where loan_id<'+str(loan_id_threshold)\n",
    "#filtered_loans = pd.read_sql_query(query, db_connection)\n",
    "#filtered_loans.head()\n",
    "\n",
    "\n",
    "def rentals_month(engine,month,year):\n",
    "    query = 'SELECT' * FROM sakila.rental WHERE Month(rental_date) = {month} and Year (rental_date) = {year} \n",
    "    filtered_rentals = pd.read_sql_query(query, db_connection)\n",
    "    return filtered_rentals"
   ]
  },
  {
   "cell_type": "code",
   "execution_count": 36,
   "id": "b76c0a2c",
   "metadata": {},
   "outputs": [],
   "source": [
    "rentals_month(db_connection, 5, 2005)"
   ]
  },
  {
   "cell_type": "code",
   "execution_count": null,
   "id": "3a1a327b",
   "metadata": {},
   "outputs": [],
   "source": [
    "def rental_count_month(engine, month, year):\n",
    "    query_2 = \"select\" * from sakila.rental where month (rental_date) = {month} and Year (rental_date) = {year} "
   ]
  }
 ],
 "metadata": {
  "kernelspec": {
   "display_name": "Python 3 (ipykernel)",
   "language": "python",
   "name": "python3"
  },
  "language_info": {
   "codemirror_mode": {
    "name": "ipython",
    "version": 3
   },
   "file_extension": ".py",
   "mimetype": "text/x-python",
   "name": "python",
   "nbconvert_exporter": "python",
   "pygments_lexer": "ipython3",
   "version": "3.10.9"
  }
 },
 "nbformat": 4,
 "nbformat_minor": 5
}
