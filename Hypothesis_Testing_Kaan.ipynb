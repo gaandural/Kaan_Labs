{
 "cells": [
  {
   "cell_type": "code",
   "execution_count": 11,
   "id": "c34214ef",
   "metadata": {},
   "outputs": [],
   "source": [
    "import numpy as np\n",
    "import pandas as pd\n",
    "import scipy.stats as stats\n",
    "import matplotlib.pyplot as plt\n",
    "import seaborn as sns\n",
    "\n",
    "%matplotlib inline"
   ]
  },
  {
   "cell_type": "markdown",
   "id": "3bc9f139",
   "metadata": {},
   "source": [
    "H0: mu = 120\n",
    "H1: mu != 120"
   ]
  },
  {
   "cell_type": "code",
   "execution_count": 18,
   "id": "ff72247d",
   "metadata": {},
   "outputs": [
    {
     "data": {
      "text/plain": [
       "1.9842169515086827"
      ]
     },
     "execution_count": 18,
     "metadata": {},
     "output_type": "execute_result"
    }
   ],
   "source": [
    "t_test = stats.t.ppf(0.975, df=99)\n",
    "t_test"
   ]
  },
  {
   "cell_type": "code",
   "execution_count": 17,
   "id": "dc68d744",
   "metadata": {},
   "outputs": [
    {
     "name": "stdout",
     "output_type": "stream",
     "text": [
      "Test statistic: -4.761904761904759\n",
      "Critical value: 1.9842169515086827\n",
      "p-value: 6.562701817208617e-06\n"
     ]
    }
   ],
   "source": [
    "# Sample statistics\n",
    "population_mean = 130.1\n",
    "sample_mean = 120\n",
    "sample_std = 21.21\n",
    "sample_size = 100\n",
    "# Calculate the test statistic\n",
    "t_statistic = (sample_mean - population_mean) / (sample_std / np.sqrt(sample_size))\n",
    "# Perform the one-sample t-test\n",
    "t_critical = stats.t.ppf(0.975, df=sample_size-1)  # Two-tailed test, 95% confidence level\n",
    "p_value = stats.t.sf(np.abs(t_statistic), df=sample_size-1) * 2\n",
    "# Print the results\n",
    "print(\"Test statistic:\", t_statistic)\n",
    "print(\"Critical value:\", t_critical)\n",
    "print(\"p-value:\", p_value)\n",
    "\n",
    "#refect H0. there is enough evidence to suggest a significant difference between the sample mean and the hypothesized population mean of 120."
   ]
  }
 ],
 "metadata": {
  "kernelspec": {
   "display_name": "Python 3 (ipykernel)",
   "language": "python",
   "name": "python3"
  },
  "language_info": {
   "codemirror_mode": {
    "name": "ipython",
    "version": 3
   },
   "file_extension": ".py",
   "mimetype": "text/x-python",
   "name": "python",
   "nbconvert_exporter": "python",
   "pygments_lexer": "ipython3",
   "version": "3.10.9"
  }
 },
 "nbformat": 4,
 "nbformat_minor": 5
}
